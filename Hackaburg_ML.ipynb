{
  "nbformat": 4,
  "nbformat_minor": 0,
  "metadata": {
    "colab": {
      "provenance": []
    },
    "kernelspec": {
      "name": "python3",
      "display_name": "Python 3"
    },
    "language_info": {
      "name": "python"
    }
  },
  "cells": [
    {
      "cell_type": "code",
      "execution_count": 14,
      "metadata": {
        "id": "idnfGrWrCtbQ"
      },
      "outputs": [],
      "source": [
        "import numpy as np\n",
        "import pandas as pd\n",
        "import matplotlib.pyplot as plt\n",
        "import seaborn as sns\n",
        "from sklearn.preprocessing import StandardScaler\n",
        "from sklearn.ensemble import GradientBoostingRegressor, RandomForestRegressor\n",
        "from sklearn.model_selection import train_test_split\n",
        "from sklearn.metrics import r2_score, mean_squared_error\n",
        "import joblib"
      ]
    },
    {
      "cell_type": "code",
      "source": [
        "data = pd.read_parquet('/content/full_data.parquet')\n",
        "data.head(10)"
      ],
      "metadata": {
        "colab": {
          "base_uri": "https://localhost:8080/",
          "height": 363
        },
        "id": "nN3rNg-PC08L",
        "outputId": "c10dfe1a-b927-48c7-c229-11d2a781f8a6"
      },
      "execution_count": 2,
      "outputs": [
        {
          "output_type": "execute_result",
          "data": {
            "text/plain": [
              "         rtctime        lat        lon  target_temperature  feature_c  \\\n",
              "0  1672911588170  68.860123  18.346718           -4.281718  20.947325   \n",
              "1  1672911588180  68.860123  18.346718           -4.281718  20.947325   \n",
              "2  1672911588190  68.860123  18.346718           -4.281718  20.947325   \n",
              "3  1672911588200  68.860123  18.346718           -4.281718  21.361129   \n",
              "4  1672911588210  68.860123  18.346718           -4.281718  21.361129   \n",
              "5  1672911588220  68.860123  18.346718           -4.281718  21.361129   \n",
              "6  1672911588230  68.860123  18.346718           -4.281718  21.361129   \n",
              "7  1672911588240  68.860123  18.346718           -4.281718  21.361129   \n",
              "8  1672911588250  68.860123  18.346718           -4.281718  20.629015   \n",
              "9  1672911588260  68.860123  18.346718           -4.281718  20.629015   \n",
              "\n",
              "   feature_ct  feature_motorspeed  ambient_temp  car_speed        soc  \n",
              "0        -1.0           68.902439          -3.9       1.05  84.199997  \n",
              "1        -1.0           68.902439          -3.9       1.05  84.199997  \n",
              "2        -1.0           68.902439          -3.9       1.05  84.199997  \n",
              "3        -1.0           70.731707          -3.9       1.05  84.199997  \n",
              "4        -1.0           70.731707          -3.9       1.11  84.199997  \n",
              "5        -1.0           70.731707          -3.9       1.11  84.199997  \n",
              "6        -1.0           70.731707          -3.9       1.11  84.199997  \n",
              "7        -1.0           70.731707          -3.9       1.11  84.199997  \n",
              "8        -1.0           72.560976          -3.9       1.17  84.199997  \n",
              "9        -1.0           72.560976          -3.9       1.17  84.199997  "
            ],
            "text/html": [
              "\n",
              "  <div id=\"df-f4144a30-4c05-4157-bf90-f4eea4a26a20\">\n",
              "    <div class=\"colab-df-container\">\n",
              "      <div>\n",
              "<style scoped>\n",
              "    .dataframe tbody tr th:only-of-type {\n",
              "        vertical-align: middle;\n",
              "    }\n",
              "\n",
              "    .dataframe tbody tr th {\n",
              "        vertical-align: top;\n",
              "    }\n",
              "\n",
              "    .dataframe thead th {\n",
              "        text-align: right;\n",
              "    }\n",
              "</style>\n",
              "<table border=\"1\" class=\"dataframe\">\n",
              "  <thead>\n",
              "    <tr style=\"text-align: right;\">\n",
              "      <th></th>\n",
              "      <th>rtctime</th>\n",
              "      <th>lat</th>\n",
              "      <th>lon</th>\n",
              "      <th>target_temperature</th>\n",
              "      <th>feature_c</th>\n",
              "      <th>feature_ct</th>\n",
              "      <th>feature_motorspeed</th>\n",
              "      <th>ambient_temp</th>\n",
              "      <th>car_speed</th>\n",
              "      <th>soc</th>\n",
              "    </tr>\n",
              "  </thead>\n",
              "  <tbody>\n",
              "    <tr>\n",
              "      <th>0</th>\n",
              "      <td>1672911588170</td>\n",
              "      <td>68.860123</td>\n",
              "      <td>18.346718</td>\n",
              "      <td>-4.281718</td>\n",
              "      <td>20.947325</td>\n",
              "      <td>-1.0</td>\n",
              "      <td>68.902439</td>\n",
              "      <td>-3.9</td>\n",
              "      <td>1.05</td>\n",
              "      <td>84.199997</td>\n",
              "    </tr>\n",
              "    <tr>\n",
              "      <th>1</th>\n",
              "      <td>1672911588180</td>\n",
              "      <td>68.860123</td>\n",
              "      <td>18.346718</td>\n",
              "      <td>-4.281718</td>\n",
              "      <td>20.947325</td>\n",
              "      <td>-1.0</td>\n",
              "      <td>68.902439</td>\n",
              "      <td>-3.9</td>\n",
              "      <td>1.05</td>\n",
              "      <td>84.199997</td>\n",
              "    </tr>\n",
              "    <tr>\n",
              "      <th>2</th>\n",
              "      <td>1672911588190</td>\n",
              "      <td>68.860123</td>\n",
              "      <td>18.346718</td>\n",
              "      <td>-4.281718</td>\n",
              "      <td>20.947325</td>\n",
              "      <td>-1.0</td>\n",
              "      <td>68.902439</td>\n",
              "      <td>-3.9</td>\n",
              "      <td>1.05</td>\n",
              "      <td>84.199997</td>\n",
              "    </tr>\n",
              "    <tr>\n",
              "      <th>3</th>\n",
              "      <td>1672911588200</td>\n",
              "      <td>68.860123</td>\n",
              "      <td>18.346718</td>\n",
              "      <td>-4.281718</td>\n",
              "      <td>21.361129</td>\n",
              "      <td>-1.0</td>\n",
              "      <td>70.731707</td>\n",
              "      <td>-3.9</td>\n",
              "      <td>1.05</td>\n",
              "      <td>84.199997</td>\n",
              "    </tr>\n",
              "    <tr>\n",
              "      <th>4</th>\n",
              "      <td>1672911588210</td>\n",
              "      <td>68.860123</td>\n",
              "      <td>18.346718</td>\n",
              "      <td>-4.281718</td>\n",
              "      <td>21.361129</td>\n",
              "      <td>-1.0</td>\n",
              "      <td>70.731707</td>\n",
              "      <td>-3.9</td>\n",
              "      <td>1.11</td>\n",
              "      <td>84.199997</td>\n",
              "    </tr>\n",
              "    <tr>\n",
              "      <th>5</th>\n",
              "      <td>1672911588220</td>\n",
              "      <td>68.860123</td>\n",
              "      <td>18.346718</td>\n",
              "      <td>-4.281718</td>\n",
              "      <td>21.361129</td>\n",
              "      <td>-1.0</td>\n",
              "      <td>70.731707</td>\n",
              "      <td>-3.9</td>\n",
              "      <td>1.11</td>\n",
              "      <td>84.199997</td>\n",
              "    </tr>\n",
              "    <tr>\n",
              "      <th>6</th>\n",
              "      <td>1672911588230</td>\n",
              "      <td>68.860123</td>\n",
              "      <td>18.346718</td>\n",
              "      <td>-4.281718</td>\n",
              "      <td>21.361129</td>\n",
              "      <td>-1.0</td>\n",
              "      <td>70.731707</td>\n",
              "      <td>-3.9</td>\n",
              "      <td>1.11</td>\n",
              "      <td>84.199997</td>\n",
              "    </tr>\n",
              "    <tr>\n",
              "      <th>7</th>\n",
              "      <td>1672911588240</td>\n",
              "      <td>68.860123</td>\n",
              "      <td>18.346718</td>\n",
              "      <td>-4.281718</td>\n",
              "      <td>21.361129</td>\n",
              "      <td>-1.0</td>\n",
              "      <td>70.731707</td>\n",
              "      <td>-3.9</td>\n",
              "      <td>1.11</td>\n",
              "      <td>84.199997</td>\n",
              "    </tr>\n",
              "    <tr>\n",
              "      <th>8</th>\n",
              "      <td>1672911588250</td>\n",
              "      <td>68.860123</td>\n",
              "      <td>18.346718</td>\n",
              "      <td>-4.281718</td>\n",
              "      <td>20.629015</td>\n",
              "      <td>-1.0</td>\n",
              "      <td>72.560976</td>\n",
              "      <td>-3.9</td>\n",
              "      <td>1.17</td>\n",
              "      <td>84.199997</td>\n",
              "    </tr>\n",
              "    <tr>\n",
              "      <th>9</th>\n",
              "      <td>1672911588260</td>\n",
              "      <td>68.860123</td>\n",
              "      <td>18.346718</td>\n",
              "      <td>-4.281718</td>\n",
              "      <td>20.629015</td>\n",
              "      <td>-1.0</td>\n",
              "      <td>72.560976</td>\n",
              "      <td>-3.9</td>\n",
              "      <td>1.17</td>\n",
              "      <td>84.199997</td>\n",
              "    </tr>\n",
              "  </tbody>\n",
              "</table>\n",
              "</div>\n",
              "      <button class=\"colab-df-convert\" onclick=\"convertToInteractive('df-f4144a30-4c05-4157-bf90-f4eea4a26a20')\"\n",
              "              title=\"Convert this dataframe to an interactive table.\"\n",
              "              style=\"display:none;\">\n",
              "        \n",
              "  <svg xmlns=\"http://www.w3.org/2000/svg\" height=\"24px\"viewBox=\"0 0 24 24\"\n",
              "       width=\"24px\">\n",
              "    <path d=\"M0 0h24v24H0V0z\" fill=\"none\"/>\n",
              "    <path d=\"M18.56 5.44l.94 2.06.94-2.06 2.06-.94-2.06-.94-.94-2.06-.94 2.06-2.06.94zm-11 1L8.5 8.5l.94-2.06 2.06-.94-2.06-.94L8.5 2.5l-.94 2.06-2.06.94zm10 10l.94 2.06.94-2.06 2.06-.94-2.06-.94-.94-2.06-.94 2.06-2.06.94z\"/><path d=\"M17.41 7.96l-1.37-1.37c-.4-.4-.92-.59-1.43-.59-.52 0-1.04.2-1.43.59L10.3 9.45l-7.72 7.72c-.78.78-.78 2.05 0 2.83L4 21.41c.39.39.9.59 1.41.59.51 0 1.02-.2 1.41-.59l7.78-7.78 2.81-2.81c.8-.78.8-2.07 0-2.86zM5.41 20L4 18.59l7.72-7.72 1.47 1.35L5.41 20z\"/>\n",
              "  </svg>\n",
              "      </button>\n",
              "      \n",
              "  <style>\n",
              "    .colab-df-container {\n",
              "      display:flex;\n",
              "      flex-wrap:wrap;\n",
              "      gap: 12px;\n",
              "    }\n",
              "\n",
              "    .colab-df-convert {\n",
              "      background-color: #E8F0FE;\n",
              "      border: none;\n",
              "      border-radius: 50%;\n",
              "      cursor: pointer;\n",
              "      display: none;\n",
              "      fill: #1967D2;\n",
              "      height: 32px;\n",
              "      padding: 0 0 0 0;\n",
              "      width: 32px;\n",
              "    }\n",
              "\n",
              "    .colab-df-convert:hover {\n",
              "      background-color: #E2EBFA;\n",
              "      box-shadow: 0px 1px 2px rgba(60, 64, 67, 0.3), 0px 1px 3px 1px rgba(60, 64, 67, 0.15);\n",
              "      fill: #174EA6;\n",
              "    }\n",
              "\n",
              "    [theme=dark] .colab-df-convert {\n",
              "      background-color: #3B4455;\n",
              "      fill: #D2E3FC;\n",
              "    }\n",
              "\n",
              "    [theme=dark] .colab-df-convert:hover {\n",
              "      background-color: #434B5C;\n",
              "      box-shadow: 0px 1px 3px 1px rgba(0, 0, 0, 0.15);\n",
              "      filter: drop-shadow(0px 1px 2px rgba(0, 0, 0, 0.3));\n",
              "      fill: #FFFFFF;\n",
              "    }\n",
              "  </style>\n",
              "\n",
              "      <script>\n",
              "        const buttonEl =\n",
              "          document.querySelector('#df-f4144a30-4c05-4157-bf90-f4eea4a26a20 button.colab-df-convert');\n",
              "        buttonEl.style.display =\n",
              "          google.colab.kernel.accessAllowed ? 'block' : 'none';\n",
              "\n",
              "        async function convertToInteractive(key) {\n",
              "          const element = document.querySelector('#df-f4144a30-4c05-4157-bf90-f4eea4a26a20');\n",
              "          const dataTable =\n",
              "            await google.colab.kernel.invokeFunction('convertToInteractive',\n",
              "                                                     [key], {});\n",
              "          if (!dataTable) return;\n",
              "\n",
              "          const docLinkHtml = 'Like what you see? Visit the ' +\n",
              "            '<a target=\"_blank\" href=https://colab.research.google.com/notebooks/data_table.ipynb>data table notebook</a>'\n",
              "            + ' to learn more about interactive tables.';\n",
              "          element.innerHTML = '';\n",
              "          dataTable['output_type'] = 'display_data';\n",
              "          await google.colab.output.renderOutput(dataTable, element);\n",
              "          const docLink = document.createElement('div');\n",
              "          docLink.innerHTML = docLinkHtml;\n",
              "          element.appendChild(docLink);\n",
              "        }\n",
              "      </script>\n",
              "    </div>\n",
              "  </div>\n",
              "  "
            ]
          },
          "metadata": {},
          "execution_count": 2
        }
      ]
    },
    {
      "cell_type": "code",
      "source": [
        "data = data.reset_index()\n",
        "data.drop(['index'],1,inplace=True)\n",
        "print('Before removing duplicates data shape: ',data.shape)\n",
        "data = data.drop_duplicates(subset = ['rtctime'], keep = 'first')\n",
        "print('After removing duplicates data shape: ',data.shape)\n",
        "data = data.sort_values(by = 'rtctime', ascending = True)\n",
        "data = data.reset_index()\n",
        "data.drop(['index'],1,inplace=True)\n",
        "data.head(10)"
      ],
      "metadata": {
        "colab": {
          "base_uri": "https://localhost:8080/",
          "height": 467
        },
        "id": "XoHL_TYoDDkT",
        "outputId": "2e9b4bc4-6efe-4d7a-c447-dc19c44b7f91"
      },
      "execution_count": 3,
      "outputs": [
        {
          "output_type": "stream",
          "name": "stderr",
          "text": [
            "<ipython-input-3-ee6989b01e9b>:2: FutureWarning: In a future version of pandas all arguments of DataFrame.drop except for the argument 'labels' will be keyword-only.\n",
            "  data.drop(['index'],1,inplace=True)\n"
          ]
        },
        {
          "output_type": "stream",
          "name": "stdout",
          "text": [
            "Before removing duplicates data shape:  (8159719, 10)\n",
            "After removing duplicates data shape:  (8156409, 10)\n"
          ]
        },
        {
          "output_type": "stream",
          "name": "stderr",
          "text": [
            "<ipython-input-3-ee6989b01e9b>:8: FutureWarning: In a future version of pandas all arguments of DataFrame.drop except for the argument 'labels' will be keyword-only.\n",
            "  data.drop(['index'],1,inplace=True)\n"
          ]
        },
        {
          "output_type": "execute_result",
          "data": {
            "text/plain": [
              "         rtctime        lat        lon  target_temperature  feature_c  \\\n",
              "0  1672911588170  68.860123  18.346718           -4.281718  20.947325   \n",
              "1  1672911588180  68.860123  18.346718           -4.281718  20.947325   \n",
              "2  1672911588190  68.860123  18.346718           -4.281718  20.947325   \n",
              "3  1672911588200  68.860123  18.346718           -4.281718  21.361129   \n",
              "4  1672911588210  68.860123  18.346718           -4.281718  21.361129   \n",
              "5  1672911588220  68.860123  18.346718           -4.281718  21.361129   \n",
              "6  1672911588230  68.860123  18.346718           -4.281718  21.361129   \n",
              "7  1672911588240  68.860123  18.346718           -4.281718  21.361129   \n",
              "8  1672911588250  68.860123  18.346718           -4.281718  20.629015   \n",
              "9  1672911588260  68.860123  18.346718           -4.281718  20.629015   \n",
              "\n",
              "   feature_ct  feature_motorspeed  ambient_temp  car_speed        soc  \n",
              "0        -1.0           68.902439          -3.9       1.05  84.199997  \n",
              "1        -1.0           68.902439          -3.9       1.05  84.199997  \n",
              "2        -1.0           68.902439          -3.9       1.05  84.199997  \n",
              "3        -1.0           70.731707          -3.9       1.05  84.199997  \n",
              "4        -1.0           70.731707          -3.9       1.11  84.199997  \n",
              "5        -1.0           70.731707          -3.9       1.11  84.199997  \n",
              "6        -1.0           70.731707          -3.9       1.11  84.199997  \n",
              "7        -1.0           70.731707          -3.9       1.11  84.199997  \n",
              "8        -1.0           72.560976          -3.9       1.17  84.199997  \n",
              "9        -1.0           72.560976          -3.9       1.17  84.199997  "
            ],
            "text/html": [
              "\n",
              "  <div id=\"df-7e918403-4cfb-42e7-9706-72b9fa27fd50\">\n",
              "    <div class=\"colab-df-container\">\n",
              "      <div>\n",
              "<style scoped>\n",
              "    .dataframe tbody tr th:only-of-type {\n",
              "        vertical-align: middle;\n",
              "    }\n",
              "\n",
              "    .dataframe tbody tr th {\n",
              "        vertical-align: top;\n",
              "    }\n",
              "\n",
              "    .dataframe thead th {\n",
              "        text-align: right;\n",
              "    }\n",
              "</style>\n",
              "<table border=\"1\" class=\"dataframe\">\n",
              "  <thead>\n",
              "    <tr style=\"text-align: right;\">\n",
              "      <th></th>\n",
              "      <th>rtctime</th>\n",
              "      <th>lat</th>\n",
              "      <th>lon</th>\n",
              "      <th>target_temperature</th>\n",
              "      <th>feature_c</th>\n",
              "      <th>feature_ct</th>\n",
              "      <th>feature_motorspeed</th>\n",
              "      <th>ambient_temp</th>\n",
              "      <th>car_speed</th>\n",
              "      <th>soc</th>\n",
              "    </tr>\n",
              "  </thead>\n",
              "  <tbody>\n",
              "    <tr>\n",
              "      <th>0</th>\n",
              "      <td>1672911588170</td>\n",
              "      <td>68.860123</td>\n",
              "      <td>18.346718</td>\n",
              "      <td>-4.281718</td>\n",
              "      <td>20.947325</td>\n",
              "      <td>-1.0</td>\n",
              "      <td>68.902439</td>\n",
              "      <td>-3.9</td>\n",
              "      <td>1.05</td>\n",
              "      <td>84.199997</td>\n",
              "    </tr>\n",
              "    <tr>\n",
              "      <th>1</th>\n",
              "      <td>1672911588180</td>\n",
              "      <td>68.860123</td>\n",
              "      <td>18.346718</td>\n",
              "      <td>-4.281718</td>\n",
              "      <td>20.947325</td>\n",
              "      <td>-1.0</td>\n",
              "      <td>68.902439</td>\n",
              "      <td>-3.9</td>\n",
              "      <td>1.05</td>\n",
              "      <td>84.199997</td>\n",
              "    </tr>\n",
              "    <tr>\n",
              "      <th>2</th>\n",
              "      <td>1672911588190</td>\n",
              "      <td>68.860123</td>\n",
              "      <td>18.346718</td>\n",
              "      <td>-4.281718</td>\n",
              "      <td>20.947325</td>\n",
              "      <td>-1.0</td>\n",
              "      <td>68.902439</td>\n",
              "      <td>-3.9</td>\n",
              "      <td>1.05</td>\n",
              "      <td>84.199997</td>\n",
              "    </tr>\n",
              "    <tr>\n",
              "      <th>3</th>\n",
              "      <td>1672911588200</td>\n",
              "      <td>68.860123</td>\n",
              "      <td>18.346718</td>\n",
              "      <td>-4.281718</td>\n",
              "      <td>21.361129</td>\n",
              "      <td>-1.0</td>\n",
              "      <td>70.731707</td>\n",
              "      <td>-3.9</td>\n",
              "      <td>1.05</td>\n",
              "      <td>84.199997</td>\n",
              "    </tr>\n",
              "    <tr>\n",
              "      <th>4</th>\n",
              "      <td>1672911588210</td>\n",
              "      <td>68.860123</td>\n",
              "      <td>18.346718</td>\n",
              "      <td>-4.281718</td>\n",
              "      <td>21.361129</td>\n",
              "      <td>-1.0</td>\n",
              "      <td>70.731707</td>\n",
              "      <td>-3.9</td>\n",
              "      <td>1.11</td>\n",
              "      <td>84.199997</td>\n",
              "    </tr>\n",
              "    <tr>\n",
              "      <th>5</th>\n",
              "      <td>1672911588220</td>\n",
              "      <td>68.860123</td>\n",
              "      <td>18.346718</td>\n",
              "      <td>-4.281718</td>\n",
              "      <td>21.361129</td>\n",
              "      <td>-1.0</td>\n",
              "      <td>70.731707</td>\n",
              "      <td>-3.9</td>\n",
              "      <td>1.11</td>\n",
              "      <td>84.199997</td>\n",
              "    </tr>\n",
              "    <tr>\n",
              "      <th>6</th>\n",
              "      <td>1672911588230</td>\n",
              "      <td>68.860123</td>\n",
              "      <td>18.346718</td>\n",
              "      <td>-4.281718</td>\n",
              "      <td>21.361129</td>\n",
              "      <td>-1.0</td>\n",
              "      <td>70.731707</td>\n",
              "      <td>-3.9</td>\n",
              "      <td>1.11</td>\n",
              "      <td>84.199997</td>\n",
              "    </tr>\n",
              "    <tr>\n",
              "      <th>7</th>\n",
              "      <td>1672911588240</td>\n",
              "      <td>68.860123</td>\n",
              "      <td>18.346718</td>\n",
              "      <td>-4.281718</td>\n",
              "      <td>21.361129</td>\n",
              "      <td>-1.0</td>\n",
              "      <td>70.731707</td>\n",
              "      <td>-3.9</td>\n",
              "      <td>1.11</td>\n",
              "      <td>84.199997</td>\n",
              "    </tr>\n",
              "    <tr>\n",
              "      <th>8</th>\n",
              "      <td>1672911588250</td>\n",
              "      <td>68.860123</td>\n",
              "      <td>18.346718</td>\n",
              "      <td>-4.281718</td>\n",
              "      <td>20.629015</td>\n",
              "      <td>-1.0</td>\n",
              "      <td>72.560976</td>\n",
              "      <td>-3.9</td>\n",
              "      <td>1.17</td>\n",
              "      <td>84.199997</td>\n",
              "    </tr>\n",
              "    <tr>\n",
              "      <th>9</th>\n",
              "      <td>1672911588260</td>\n",
              "      <td>68.860123</td>\n",
              "      <td>18.346718</td>\n",
              "      <td>-4.281718</td>\n",
              "      <td>20.629015</td>\n",
              "      <td>-1.0</td>\n",
              "      <td>72.560976</td>\n",
              "      <td>-3.9</td>\n",
              "      <td>1.17</td>\n",
              "      <td>84.199997</td>\n",
              "    </tr>\n",
              "  </tbody>\n",
              "</table>\n",
              "</div>\n",
              "      <button class=\"colab-df-convert\" onclick=\"convertToInteractive('df-7e918403-4cfb-42e7-9706-72b9fa27fd50')\"\n",
              "              title=\"Convert this dataframe to an interactive table.\"\n",
              "              style=\"display:none;\">\n",
              "        \n",
              "  <svg xmlns=\"http://www.w3.org/2000/svg\" height=\"24px\"viewBox=\"0 0 24 24\"\n",
              "       width=\"24px\">\n",
              "    <path d=\"M0 0h24v24H0V0z\" fill=\"none\"/>\n",
              "    <path d=\"M18.56 5.44l.94 2.06.94-2.06 2.06-.94-2.06-.94-.94-2.06-.94 2.06-2.06.94zm-11 1L8.5 8.5l.94-2.06 2.06-.94-2.06-.94L8.5 2.5l-.94 2.06-2.06.94zm10 10l.94 2.06.94-2.06 2.06-.94-2.06-.94-.94-2.06-.94 2.06-2.06.94z\"/><path d=\"M17.41 7.96l-1.37-1.37c-.4-.4-.92-.59-1.43-.59-.52 0-1.04.2-1.43.59L10.3 9.45l-7.72 7.72c-.78.78-.78 2.05 0 2.83L4 21.41c.39.39.9.59 1.41.59.51 0 1.02-.2 1.41-.59l7.78-7.78 2.81-2.81c.8-.78.8-2.07 0-2.86zM5.41 20L4 18.59l7.72-7.72 1.47 1.35L5.41 20z\"/>\n",
              "  </svg>\n",
              "      </button>\n",
              "      \n",
              "  <style>\n",
              "    .colab-df-container {\n",
              "      display:flex;\n",
              "      flex-wrap:wrap;\n",
              "      gap: 12px;\n",
              "    }\n",
              "\n",
              "    .colab-df-convert {\n",
              "      background-color: #E8F0FE;\n",
              "      border: none;\n",
              "      border-radius: 50%;\n",
              "      cursor: pointer;\n",
              "      display: none;\n",
              "      fill: #1967D2;\n",
              "      height: 32px;\n",
              "      padding: 0 0 0 0;\n",
              "      width: 32px;\n",
              "    }\n",
              "\n",
              "    .colab-df-convert:hover {\n",
              "      background-color: #E2EBFA;\n",
              "      box-shadow: 0px 1px 2px rgba(60, 64, 67, 0.3), 0px 1px 3px 1px rgba(60, 64, 67, 0.15);\n",
              "      fill: #174EA6;\n",
              "    }\n",
              "\n",
              "    [theme=dark] .colab-df-convert {\n",
              "      background-color: #3B4455;\n",
              "      fill: #D2E3FC;\n",
              "    }\n",
              "\n",
              "    [theme=dark] .colab-df-convert:hover {\n",
              "      background-color: #434B5C;\n",
              "      box-shadow: 0px 1px 3px 1px rgba(0, 0, 0, 0.15);\n",
              "      filter: drop-shadow(0px 1px 2px rgba(0, 0, 0, 0.3));\n",
              "      fill: #FFFFFF;\n",
              "    }\n",
              "  </style>\n",
              "\n",
              "      <script>\n",
              "        const buttonEl =\n",
              "          document.querySelector('#df-7e918403-4cfb-42e7-9706-72b9fa27fd50 button.colab-df-convert');\n",
              "        buttonEl.style.display =\n",
              "          google.colab.kernel.accessAllowed ? 'block' : 'none';\n",
              "\n",
              "        async function convertToInteractive(key) {\n",
              "          const element = document.querySelector('#df-7e918403-4cfb-42e7-9706-72b9fa27fd50');\n",
              "          const dataTable =\n",
              "            await google.colab.kernel.invokeFunction('convertToInteractive',\n",
              "                                                     [key], {});\n",
              "          if (!dataTable) return;\n",
              "\n",
              "          const docLinkHtml = 'Like what you see? Visit the ' +\n",
              "            '<a target=\"_blank\" href=https://colab.research.google.com/notebooks/data_table.ipynb>data table notebook</a>'\n",
              "            + ' to learn more about interactive tables.';\n",
              "          element.innerHTML = '';\n",
              "          dataTable['output_type'] = 'display_data';\n",
              "          await google.colab.output.renderOutput(dataTable, element);\n",
              "          const docLink = document.createElement('div');\n",
              "          docLink.innerHTML = docLinkHtml;\n",
              "          element.appendChild(docLink);\n",
              "        }\n",
              "      </script>\n",
              "    </div>\n",
              "  </div>\n",
              "  "
            ]
          },
          "metadata": {},
          "execution_count": 3
        }
      ]
    },
    {
      "cell_type": "code",
      "source": [
        "X = data.drop(['rtctime','lat','lon','target_temperature'],1)\n",
        "y = data['target_temperature']\n",
        "print('Independent features shape: ', X.shape, 'Target variable shape: ', y.shape)"
      ],
      "metadata": {
        "colab": {
          "base_uri": "https://localhost:8080/"
        },
        "id": "hT2du6eSFZw8",
        "outputId": "1ce7eae9-8bdf-4c74-e846-d39d3768b055"
      },
      "execution_count": 5,
      "outputs": [
        {
          "output_type": "stream",
          "name": "stdout",
          "text": [
            "Independent features shape:  (8156409, 6) Target variable shape:  (8156409,)\n"
          ]
        },
        {
          "output_type": "stream",
          "name": "stderr",
          "text": [
            "<ipython-input-5-2f094f58bf47>:1: FutureWarning: In a future version of pandas all arguments of DataFrame.drop except for the argument 'labels' will be keyword-only.\n",
            "  X = data.drop(['rtctime','lat','lon','target_temperature'],1)\n"
          ]
        }
      ]
    },
    {
      "cell_type": "code",
      "source": [
        "feature_corr = X.corr()\n",
        "plt.figure(figsize=(8,8))\n",
        "sns.heatmap(feature_corr, annot = True)\n",
        "plt.show()"
      ],
      "metadata": {
        "colab": {
          "base_uri": "https://localhost:8080/",
          "height": 809
        },
        "id": "G2bHoFi5GTkw",
        "outputId": "50cf4b89-fe9a-40fc-9b3e-7150001d644f"
      },
      "execution_count": 6,
      "outputs": [
        {
          "output_type": "display_data",
          "data": {
            "text/plain": [
              "<Figure size 800x800 with 2 Axes>"
            ],
            "image/png": "[encoded data removed]"
          },
          "metadata": {}
        }
      ]
    },
    {
      "cell_type": "code",
      "source": [
        "std_scaler = StandardScaler()\n",
        "X_scaled = std_scaler.fit_transform(X)\n",
        "X_scaled"
      ],
      "metadata": {
        "colab": {
          "base_uri": "https://localhost:8080/"
        },
        "id": "XBo71yX_Gryi",
        "outputId": "9ebec8fe-3c89-470e-90e1-62d0b107a23f"
      },
      "execution_count": 7,
      "outputs": [
        {
          "output_type": "execute_result",
          "data": {
            "text/plain": [
              "array([[ 0.67255378, -0.63751442, -2.22262279,  0.77050431, -2.23972402,\n",
              "         1.45092095],\n",
              "       [ 0.67255378, -0.63751442, -2.22262279,  0.77050431, -2.23972402,\n",
              "         1.45092095],\n",
              "       [ 0.67255378, -0.63751442, -2.22262279,  0.77050431, -2.23972402,\n",
              "         1.45092095],\n",
              "       ...,\n",
              "       [-0.97479533,  0.93907854,  0.4467585 ,  0.80128753,  0.45293845,\n",
              "        -0.3807295 ],\n",
              "       [-0.97479533,  0.93907854,  0.4467585 ,  0.83207068,  0.45293845,\n",
              "        -0.3807295 ],\n",
              "       [-0.97479533,  0.93907854,  0.4467585 ,  0.83207068,  0.45293845,\n",
              "        -0.3807295 ]])"
            ]
          },
          "metadata": {},
          "execution_count": 7
        }
      ]
    },
    {
      "cell_type": "code",
      "source": [
        "X_train, X_test, y_train, y_test = train_test_split(X, y, test_size = 0.3)\n",
        "print(X_train.shape, X_test.shape, y_train.shape, y_test.shape)"
      ],
      "metadata": {
        "colab": {
          "base_uri": "https://localhost:8080/"
        },
        "id": "qe13gxI7H0WE",
        "outputId": "c7d30c2d-597f-4569-c421-d54bef607f34"
      },
      "execution_count": 9,
      "outputs": [
        {
          "output_type": "stream",
          "name": "stdout",
          "text": [
            "(5709486, 6) (2446923, 6) (5709486,) (2446923,)\n"
          ]
        }
      ]
    },
    {
      "cell_type": "code",
      "source": [
        "rfr = RandomForestRegressor(n_estimators=50, max_depth=5)\n",
        "rfr_model = rfr.fit(X_train, y_train)\n",
        "rfr_model"
      ],
      "metadata": {
        "colab": {
          "base_uri": "https://localhost:8080/",
          "height": 74
        },
        "id": "XufabhtBHPuS",
        "outputId": "d3f60aa7-6395-43cf-890e-c8b04b6b47b2"
      },
      "execution_count": 10,
      "outputs": [
        {
          "output_type": "execute_result",
          "data": {
            "text/plain": [
              "RandomForestRegressor(max_depth=5, n_estimators=50)"
            ],
            "text/html": [
              "<style>#sk-container-id-1 {color: black;background-color: white;}#sk-container-id-1 pre{padding: 0;}#sk-container-id-1 div.sk-toggleable {background-color: white;}#sk-container-id-1 label.sk-toggleable__label {cursor: pointer;display: block;width: 100%;margin-bottom: 0;padding: 0.3em;box-sizing: border-box;text-align: center;}#sk-container-id-1 label.sk-toggleable__label-arrow:before {content: \"▸\";float: left;margin-right: 0.25em;color: #696969;}#sk-container-id-1 label.sk-toggleable__label-arrow:hover:before {color: black;}#sk-container-id-1 div.sk-estimator:hover label.sk-toggleable__label-arrow:before {color: black;}#sk-container-id-1 div.sk-toggleable__content {max-height: 0;max-width: 0;overflow: hidden;text-align: left;background-color: #f0f8ff;}#sk-container-id-1 div.sk-toggleable__content pre {margin: 0.2em;color: black;border-radius: 0.25em;background-color: #f0f8ff;}#sk-container-id-1 input.sk-toggleable__control:checked~div.sk-toggleable__content {max-height: 200px;max-width: 100%;overflow: auto;}#sk-container-id-1 input.sk-toggleable__control:checked~label.sk-toggleable__label-arrow:before {content: \"▾\";}#sk-container-id-1 div.sk-estimator input.sk-toggleable__control:checked~label.sk-toggleable__label {background-color: #d4ebff;}#sk-container-id-1 div.sk-label input.sk-toggleable__control:checked~label.sk-toggleable__label {background-color: #d4ebff;}#sk-container-id-1 input.sk-hidden--visually {border: 0;clip: rect(1px 1px 1px 1px);clip: rect(1px, 1px, 1px, 1px);height: 1px;margin: -1px;overflow: hidden;padding: 0;position: absolute;width: 1px;}#sk-container-id-1 div.sk-estimator {font-family: monospace;background-color: #f0f8ff;border: 1px dotted black;border-radius: 0.25em;box-sizing: border-box;margin-bottom: 0.5em;}#sk-container-id-1 div.sk-estimator:hover {background-color: #d4ebff;}#sk-container-id-1 div.sk-parallel-item::after {content: \"\";width: 100%;border-bottom: 1px solid gray;flex-grow: 1;}#sk-container-id-1 div.sk-label:hover label.sk-toggleable__label {background-color: #d4ebff;}#sk-container-id-1 div.sk-serial::before {content: \"\";position: absolute;border-left: 1px solid gray;box-sizing: border-box;top: 0;bottom: 0;left: 50%;z-index: 0;}#sk-container-id-1 div.sk-serial {display: flex;flex-direction: column;align-items: center;background-color: white;padding-right: 0.2em;padding-left: 0.2em;position: relative;}#sk-container-id-1 div.sk-item {position: relative;z-index: 1;}#sk-container-id-1 div.sk-parallel {display: flex;align-items: stretch;justify-content: center;background-color: white;position: relative;}#sk-container-id-1 div.sk-item::before, #sk-container-id-1 div.sk-parallel-item::before {content: \"\";position: absolute;border-left: 1px solid gray;box-sizing: border-box;top: 0;bottom: 0;left: 50%;z-index: -1;}#sk-container-id-1 div.sk-parallel-item {display: flex;flex-direction: column;z-index: 1;position: relative;background-color: white;}#sk-container-id-1 div.sk-parallel-item:first-child::after {align-self: flex-end;width: 50%;}#sk-container-id-1 div.sk-parallel-item:last-child::after {align-self: flex-start;width: 50%;}#sk-container-id-1 div.sk-parallel-item:only-child::after {width: 0;}#sk-container-id-1 div.sk-dashed-wrapped {border: 1px dashed gray;margin: 0 0.4em 0.5em 0.4em;box-sizing: border-box;padding-bottom: 0.4em;background-color: white;}#sk-container-id-1 div.sk-label label {font-family: monospace;font-weight: bold;display: inline-block;line-height: 1.2em;}#sk-container-id-1 div.sk-label-container {text-align: center;}#sk-container-id-1 div.sk-container {/* jupyter's `normalize.less` sets `[hidden] { display: none; }` but bootstrap.min.css set `[hidden] { display: none !important; }` so we also need the `!important` here to be able to override the default hidden behavior on the sphinx rendered scikit-learn.org. See: https://github.com/scikit-learn/scikit-learn/issues/21755 */display: inline-block !important;position: relative;}#sk-container-id-1 div.sk-text-repr-fallback {display: none;}</style><div id=\"sk-container-id-1\" class=\"sk-top-container\"><div class=\"sk-text-repr-fallback\"><pre>RandomForestRegressor(max_depth=5, n_estimators=50)</pre><b>In a Jupyter environment, please rerun this cell to show the HTML representation or trust the notebook. <br />On GitHub, the HTML representation is unable to render, please try loading this page with nbviewer.org.</b></div><div class=\"sk-container\" hidden><div class=\"sk-item\"><div class=\"sk-estimator sk-toggleable\"><input class=\"sk-toggleable__control sk-hidden--visually\" id=\"sk-estimator-id-1\" type=\"checkbox\" checked><label for=\"sk-estimator-id-1\" class=\"sk-toggleable__label sk-toggleable__label-arrow\">RandomForestRegressor</label><div class=\"sk-toggleable__content\"><pre>RandomForestRegressor(max_depth=5, n_estimators=50)</pre></div></div></div></div></div>"
            ]
          },
          "metadata": {},
          "execution_count": 10
        }
      ]
    },
    {
      "cell_type": "code",
      "source": [
        "y_pred = rfr_model.predict(X_test)\n",
        "print(\"R2 Score: \",r2_score(y_test, y_pred))\n",
        "print(\"Error: \", mean_squared_error(y_test, y_pred))"
      ],
      "metadata": {
        "colab": {
          "base_uri": "https://localhost:8080/"
        },
        "id": "vb117DdHHY1_",
        "outputId": "10eb34ae-36cc-4f6a-f407-157a14a30049"
      },
      "execution_count": 15,
      "outputs": [
        {
          "output_type": "stream",
          "name": "stdout",
          "text": [
            "R2 Score:  0.8029697809930212\n",
            "Error:  76.88128108565215\n"
          ]
        }
      ]
    },
    {
      "cell_type": "code",
      "source": [
        "rfr_model_file = \"rfr_model.sav\"\n",
        "joblib.dump(rfr_model, rfr_model_file)"
      ],
      "metadata": {
        "colab": {
          "base_uri": "https://localhost:8080/"
        },
        "id": "-QLs51ULMuv9",
        "outputId": "d65dcf9f-d6b1-490b-d0c0-8f0fd82b14b2"
      },
      "execution_count": 16,
      "outputs": [
        {
          "output_type": "execute_result",
          "data": {
            "text/plain": [
              "['rfr_model.sav']"
            ]
          },
          "metadata": {},
          "execution_count": 16
        }
      ]
    },
    {
      "cell_type": "code",
      "source": [
        "rfr_model_load = joblib.load('/content/rfr_model.sav')\n",
        "new_pred = rfr_model_load.score(X_test, y_test)\n",
        "print(new_pred)"
      ],
      "metadata": {
        "colab": {
          "base_uri": "https://localhost:8080/"
        },
        "id": "vHwdpmSkNXN5",
        "outputId": "841d851a-2161-4ac9-d0cf-56d730fbde38"
      },
      "execution_count": 18,
      "outputs": [
        {
          "output_type": "stream",
          "name": "stdout",
          "text": [
            "0.8029697809930212\n"
          ]
        }
      ]
    },
    {
      "cell_type": "code",
      "source": [
        "feature_importances = rfr_model.feature_importances_\n",
        "column_names = X.columns\n",
        "feature_names = {'importance':feature_importances, 'column':column_names}\n",
        "feature_names = pd.DataFrame(feature_names)\n",
        "feature_names"
      ],
      "metadata": {
        "colab": {
          "base_uri": "https://localhost:8080/",
          "height": 237
        },
        "id": "7RZ7nmsCOht4",
        "outputId": "a3763e50-815e-41c4-ac05-5f0e09dcbb4c"
      },
      "execution_count": 25,
      "outputs": [
        {
          "output_type": "execute_result",
          "data": {
            "text/plain": [
              "   importance              column\n",
              "0    0.000000           feature_c\n",
              "1    0.627563          feature_ct\n",
              "2    0.031406  feature_motorspeed\n",
              "3    0.072276        ambient_temp\n",
              "4    0.186989           car_speed\n",
              "5    0.081767                 soc"
            ],
            "text/html": [
              "\n",
              "  <div id=\"df-eb362ef3-1f88-4b98-aa0f-3946212cb48b\">\n",
              "    <div class=\"colab-df-container\">\n",
              "      <div>\n",
              "<style scoped>\n",
              "    .dataframe tbody tr th:only-of-type {\n",
              "        vertical-align: middle;\n",
              "    }\n",
              "\n",
              "    .dataframe tbody tr th {\n",
              "        vertical-align: top;\n",
              "    }\n",
              "\n",
              "    .dataframe thead th {\n",
              "        text-align: right;\n",
              "    }\n",
              "</style>\n",
              "<table border=\"1\" class=\"dataframe\">\n",
              "  <thead>\n",
              "    <tr style=\"text-align: right;\">\n",
              "      <th></th>\n",
              "      <th>importance</th>\n",
              "      <th>column</th>\n",
              "    </tr>\n",
              "  </thead>\n",
              "  <tbody>\n",
              "    <tr>\n",
              "      <th>0</th>\n",
              "      <td>0.000000</td>\n",
              "      <td>feature_c</td>\n",
              "    </tr>\n",
              "    <tr>\n",
              "      <th>1</th>\n",
              "      <td>0.627563</td>\n",
              "      <td>feature_ct</td>\n",
              "    </tr>\n",
              "    <tr>\n",
              "      <th>2</th>\n",
              "      <td>0.031406</td>\n",
              "      <td>feature_motorspeed</td>\n",
              "    </tr>\n",
              "    <tr>\n",
              "      <th>3</th>\n",
              "      <td>0.072276</td>\n",
              "      <td>ambient_temp</td>\n",
              "    </tr>\n",
              "    <tr>\n",
              "      <th>4</th>\n",
              "      <td>0.186989</td>\n",
              "      <td>car_speed</td>\n",
              "    </tr>\n",
              "    <tr>\n",
              "      <th>5</th>\n",
              "      <td>0.081767</td>\n",
              "      <td>soc</td>\n",
              "    </tr>\n",
              "  </tbody>\n",
              "</table>\n",
              "</div>\n",
              "      <button class=\"colab-df-convert\" onclick=\"convertToInteractive('df-eb362ef3-1f88-4b98-aa0f-3946212cb48b')\"\n",
              "              title=\"Convert this dataframe to an interactive table.\"\n",
              "              style=\"display:none;\">\n",
              "        \n",
              "  <svg xmlns=\"http://www.w3.org/2000/svg\" height=\"24px\"viewBox=\"0 0 24 24\"\n",
              "       width=\"24px\">\n",
              "    <path d=\"M0 0h24v24H0V0z\" fill=\"none\"/>\n",
              "    <path d=\"M18.56 5.44l.94 2.06.94-2.06 2.06-.94-2.06-.94-.94-2.06-.94 2.06-2.06.94zm-11 1L8.5 8.5l.94-2.06 2.06-.94-2.06-.94L8.5 2.5l-.94 2.06-2.06.94zm10 10l.94 2.06.94-2.06 2.06-.94-2.06-.94-.94-2.06-.94 2.06-2.06.94z\"/><path d=\"M17.41 7.96l-1.37-1.37c-.4-.4-.92-.59-1.43-.59-.52 0-1.04.2-1.43.59L10.3 9.45l-7.72 7.72c-.78.78-.78 2.05 0 2.83L4 21.41c.39.39.9.59 1.41.59.51 0 1.02-.2 1.41-.59l7.78-7.78 2.81-2.81c.8-.78.8-2.07 0-2.86zM5.41 20L4 18.59l7.72-7.72 1.47 1.35L5.41 20z\"/>\n",
              "  </svg>\n",
              "      </button>\n",
              "      \n",
              "  <style>\n",
              "    .colab-df-container {\n",
              "      display:flex;\n",
              "      flex-wrap:wrap;\n",
              "      gap: 12px;\n",
              "    }\n",
              "\n",
              "    .colab-df-convert {\n",
              "      background-color: #E8F0FE;\n",
              "      border: none;\n",
              "      border-radius: 50%;\n",
              "      cursor: pointer;\n",
              "      display: none;\n",
              "      fill: #1967D2;\n",
              "      height: 32px;\n",
              "      padding: 0 0 0 0;\n",
              "      width: 32px;\n",
              "    }\n",
              "\n",
              "    .colab-df-convert:hover {\n",
              "      background-color: #E2EBFA;\n",
              "      box-shadow: 0px 1px 2px rgba(60, 64, 67, 0.3), 0px 1px 3px 1px rgba(60, 64, 67, 0.15);\n",
              "      fill: #174EA6;\n",
              "    }\n",
              "\n",
              "    [theme=dark] .colab-df-convert {\n",
              "      background-color: #3B4455;\n",
              "      fill: #D2E3FC;\n",
              "    }\n",
              "\n",
              "    [theme=dark] .colab-df-convert:hover {\n",
              "      background-color: #434B5C;\n",
              "      box-shadow: 0px 1px 3px 1px rgba(0, 0, 0, 0.15);\n",
              "      filter: drop-shadow(0px 1px 2px rgba(0, 0, 0, 0.3));\n",
              "      fill: #FFFFFF;\n",
              "    }\n",
              "  </style>\n",
              "\n",
              "      <script>\n",
              "        const buttonEl =\n",
              "          document.querySelector('#df-eb362ef3-1f88-4b98-aa0f-3946212cb48b button.colab-df-convert');\n",
              "        buttonEl.style.display =\n",
              "          google.colab.kernel.accessAllowed ? 'block' : 'none';\n",
              "\n",
              "        async function convertToInteractive(key) {\n",
              "          const element = document.querySelector('#df-eb362ef3-1f88-4b98-aa0f-3946212cb48b');\n",
              "          const dataTable =\n",
              "            await google.colab.kernel.invokeFunction('convertToInteractive',\n",
              "                                                     [key], {});\n",
              "          if (!dataTable) return;\n",
              "\n",
              "          const docLinkHtml = 'Like what you see? Visit the ' +\n",
              "            '<a target=\"_blank\" href=https://colab.research.google.com/notebooks/data_table.ipynb>data table notebook</a>'\n",
              "            + ' to learn more about interactive tables.';\n",
              "          element.innerHTML = '';\n",
              "          dataTable['output_type'] = 'display_data';\n",
              "          await google.colab.output.renderOutput(dataTable, element);\n",
              "          const docLink = document.createElement('div');\n",
              "          docLink.innerHTML = docLinkHtml;\n",
              "          element.appendChild(docLink);\n",
              "        }\n",
              "      </script>\n",
              "    </div>\n",
              "  </div>\n",
              "  "
            ]
          },
          "metadata": {},
          "execution_count": 25
        }
      ]
    },
    {
      "cell_type": "code",
      "source": [],
      "metadata": {
        "id": "viDi4L8bPqpa"
      },
      "execution_count": null,
      "outputs": []
    }
  ]
}