{
 "cells": [
  {
   "cell_type": "code",
   "execution_count": 1,
   "metadata": {
    "id": "idnfGrWrCtbQ"
   },
   "outputs": [],
   "source": [
    "import numpy as np\n",
    "import pandas as pd\n",
    "import matplotlib.pyplot as plt\n",
    "import seaborn as sns\n",
    "from sklearn.preprocessing import StandardScaler\n",
    "from sklearn.ensemble import GradientBoostingRegressor, RandomForestRegressor\n",
    "from sklearn.model_selection import train_test_split\n",
    "from sklearn.metrics import r2_score, mean_squared_error\n",
    "import joblib"
   ]
  },
  {
   "cell_type": "code",
   "execution_count": 2,
   "metadata": {
    "colab": {
     "base_uri": "https://localhost:8080/",
     "height": 363
    },
    "id": "nN3rNg-PC08L",
    "outputId": "11817b74-c962-4aa0-c044-d307d3652d8c"
   },
   "outputs": [
    {
     "data": {
      "text/html": [
       "<div>\n",
       "<style scoped>\n",
       "    .dataframe tbody tr th:only-of-type {\n",
       "        vertical-align: middle;\n",
       "    }\n",
       "\n",
       "    .dataframe tbody tr th {\n",
       "        vertical-align: top;\n",
       "    }\n",
       "\n",
       "    .dataframe thead th {\n",
       "        text-align: right;\n",
       "    }\n",
       "</style>\n",
       "<table border=\"1\" class=\"dataframe\">\n",
       "  <thead>\n",
       "    <tr style=\"text-align: right;\">\n",
       "      <th></th>\n",
       "      <th>rtctime</th>\n",
       "      <th>lat</th>\n",
       "      <th>lon</th>\n",
       "      <th>target_temperature</th>\n",
       "      <th>feature_c</th>\n",
       "      <th>feature_ct</th>\n",
       "      <th>feature_motorspeed</th>\n",
       "      <th>ambient_temp</th>\n",
       "      <th>car_speed</th>\n",
       "      <th>soc</th>\n",
       "    </tr>\n",
       "  </thead>\n",
       "  <tbody>\n",
       "    <tr>\n",
       "      <th>0</th>\n",
       "      <td>1672911588170</td>\n",
       "      <td>68.860123</td>\n",
       "      <td>18.346718</td>\n",
       "      <td>-4.281718</td>\n",
       "      <td>20.947325</td>\n",
       "      <td>-1.0</td>\n",
       "      <td>68.902439</td>\n",
       "      <td>-3.9</td>\n",
       "      <td>1.05</td>\n",
       "      <td>84.199997</td>\n",
       "    </tr>\n",
       "    <tr>\n",
       "      <th>1</th>\n",
       "      <td>1672911588180</td>\n",
       "      <td>68.860123</td>\n",
       "      <td>18.346718</td>\n",
       "      <td>-4.281718</td>\n",
       "      <td>20.947325</td>\n",
       "      <td>-1.0</td>\n",
       "      <td>68.902439</td>\n",
       "      <td>-3.9</td>\n",
       "      <td>1.05</td>\n",
       "      <td>84.199997</td>\n",
       "    </tr>\n",
       "    <tr>\n",
       "      <th>2</th>\n",
       "      <td>1672911588190</td>\n",
       "      <td>68.860123</td>\n",
       "      <td>18.346718</td>\n",
       "      <td>-4.281718</td>\n",
       "      <td>20.947325</td>\n",
       "      <td>-1.0</td>\n",
       "      <td>68.902439</td>\n",
       "      <td>-3.9</td>\n",
       "      <td>1.05</td>\n",
       "      <td>84.199997</td>\n",
       "    </tr>\n",
       "    <tr>\n",
       "      <th>3</th>\n",
       "      <td>1672911588200</td>\n",
       "      <td>68.860123</td>\n",
       "      <td>18.346718</td>\n",
       "      <td>-4.281718</td>\n",
       "      <td>21.361129</td>\n",
       "      <td>-1.0</td>\n",
       "      <td>70.731707</td>\n",
       "      <td>-3.9</td>\n",
       "      <td>1.05</td>\n",
       "      <td>84.199997</td>\n",
       "    </tr>\n",
       "    <tr>\n",
       "      <th>4</th>\n",
       "      <td>1672911588210</td>\n",
       "      <td>68.860123</td>\n",
       "      <td>18.346718</td>\n",
       "      <td>-4.281718</td>\n",
       "      <td>21.361129</td>\n",
       "      <td>-1.0</td>\n",
       "      <td>70.731707</td>\n",
       "      <td>-3.9</td>\n",
       "      <td>1.11</td>\n",
       "      <td>84.199997</td>\n",
       "    </tr>\n",
       "    <tr>\n",
       "      <th>5</th>\n",
       "      <td>1672911588220</td>\n",
       "      <td>68.860123</td>\n",
       "      <td>18.346718</td>\n",
       "      <td>-4.281718</td>\n",
       "      <td>21.361129</td>\n",
       "      <td>-1.0</td>\n",
       "      <td>70.731707</td>\n",
       "      <td>-3.9</td>\n",
       "      <td>1.11</td>\n",
       "      <td>84.199997</td>\n",
       "    </tr>\n",
       "    <tr>\n",
       "      <th>6</th>\n",
       "      <td>1672911588230</td>\n",
       "      <td>68.860123</td>\n",
       "      <td>18.346718</td>\n",
       "      <td>-4.281718</td>\n",
       "      <td>21.361129</td>\n",
       "      <td>-1.0</td>\n",
       "      <td>70.731707</td>\n",
       "      <td>-3.9</td>\n",
       "      <td>1.11</td>\n",
       "      <td>84.199997</td>\n",
       "    </tr>\n",
       "    <tr>\n",
       "      <th>7</th>\n",
       "      <td>1672911588240</td>\n",
       "      <td>68.860123</td>\n",
       "      <td>18.346718</td>\n",
       "      <td>-4.281718</td>\n",
       "      <td>21.361129</td>\n",
       "      <td>-1.0</td>\n",
       "      <td>70.731707</td>\n",
       "      <td>-3.9</td>\n",
       "      <td>1.11</td>\n",
       "      <td>84.199997</td>\n",
       "    </tr>\n",
       "    <tr>\n",
       "      <th>8</th>\n",
       "      <td>1672911588250</td>\n",
       "      <td>68.860123</td>\n",
       "      <td>18.346718</td>\n",
       "      <td>-4.281718</td>\n",
       "      <td>20.629015</td>\n",
       "      <td>-1.0</td>\n",
       "      <td>72.560976</td>\n",
       "      <td>-3.9</td>\n",
       "      <td>1.17</td>\n",
       "      <td>84.199997</td>\n",
       "    </tr>\n",
       "    <tr>\n",
       "      <th>9</th>\n",
       "      <td>1672911588260</td>\n",
       "      <td>68.860123</td>\n",
       "      <td>18.346718</td>\n",
       "      <td>-4.281718</td>\n",
       "      <td>20.629015</td>\n",
       "      <td>-1.0</td>\n",
       "      <td>72.560976</td>\n",
       "      <td>-3.9</td>\n",
       "      <td>1.17</td>\n",
       "      <td>84.199997</td>\n",
       "    </tr>\n",
       "  </tbody>\n",
       "</table>\n",
       "</div>"
      ],
      "text/plain": [
       "         rtctime        lat        lon  target_temperature  feature_c  \\\n",
       "0  1672911588170  68.860123  18.346718           -4.281718  20.947325   \n",
       "1  1672911588180  68.860123  18.346718           -4.281718  20.947325   \n",
       "2  1672911588190  68.860123  18.346718           -4.281718  20.947325   \n",
       "3  1672911588200  68.860123  18.346718           -4.281718  21.361129   \n",
       "4  1672911588210  68.860123  18.346718           -4.281718  21.361129   \n",
       "5  1672911588220  68.860123  18.346718           -4.281718  21.361129   \n",
       "6  1672911588230  68.860123  18.346718           -4.281718  21.361129   \n",
       "7  1672911588240  68.860123  18.346718           -4.281718  21.361129   \n",
       "8  1672911588250  68.860123  18.346718           -4.281718  20.629015   \n",
       "9  1672911588260  68.860123  18.346718           -4.281718  20.629015   \n",
       "\n",
       "   feature_ct  feature_motorspeed  ambient_temp  car_speed        soc  \n",
       "0        -1.0           68.902439          -3.9       1.05  84.199997  \n",
       "1        -1.0           68.902439          -3.9       1.05  84.199997  \n",
       "2        -1.0           68.902439          -3.9       1.05  84.199997  \n",
       "3        -1.0           70.731707          -3.9       1.05  84.199997  \n",
       "4        -1.0           70.731707          -3.9       1.11  84.199997  \n",
       "5        -1.0           70.731707          -3.9       1.11  84.199997  \n",
       "6        -1.0           70.731707          -3.9       1.11  84.199997  \n",
       "7        -1.0           70.731707          -3.9       1.11  84.199997  \n",
       "8        -1.0           72.560976          -3.9       1.17  84.199997  \n",
       "9        -1.0           72.560976          -3.9       1.17  84.199997  "
      ]
     },
     "execution_count": 2,
     "metadata": {},
     "output_type": "execute_result"
    }
   ],
   "source": [
    "data = pd.read_parquet('data/full_data.parquet')\n",
    "data.head(10)"
   ]
  },
  {
   "cell_type": "code",
   "execution_count": 3,
   "metadata": {
    "colab": {
     "base_uri": "https://localhost:8080/",
     "height": 487
    },
    "id": "XoHL_TYoDDkT",
    "outputId": "9118390e-1101-40de-cab1-e88aeec0d2ac"
   },
   "outputs": [
    {
     "name": "stderr",
     "output_type": "stream",
     "text": [
      "C:\\Users\\Yash\\Anaconda3\\lib\\site-packages\\ipykernel_launcher.py:2: FutureWarning: In a future version of pandas all arguments of DataFrame.drop except for the argument 'labels' will be keyword-only\n",
      "  \n"
     ]
    },
    {
     "name": "stdout",
     "output_type": "stream",
     "text": [
      "Before removing duplicates data shape:  (8159719, 10)\n",
      "After removing duplicates data shape:  (8156409, 10)\n"
     ]
    },
    {
     "name": "stderr",
     "output_type": "stream",
     "text": [
      "C:\\Users\\Yash\\Anaconda3\\lib\\site-packages\\ipykernel_launcher.py:8: FutureWarning: In a future version of pandas all arguments of DataFrame.drop except for the argument 'labels' will be keyword-only\n",
      "  \n"
     ]
    },
    {
     "data": {
      "text/html": [
       "<div>\n",
       "<style scoped>\n",
       "    .dataframe tbody tr th:only-of-type {\n",
       "        vertical-align: middle;\n",
       "    }\n",
       "\n",
       "    .dataframe tbody tr th {\n",
       "        vertical-align: top;\n",
       "    }\n",
       "\n",
       "    .dataframe thead th {\n",
       "        text-align: right;\n",
       "    }\n",
       "</style>\n",
       "<table border=\"1\" class=\"dataframe\">\n",
       "  <thead>\n",
       "    <tr style=\"text-align: right;\">\n",
       "      <th></th>\n",
       "      <th>rtctime</th>\n",
       "      <th>lat</th>\n",
       "      <th>lon</th>\n",
       "      <th>target_temperature</th>\n",
       "      <th>feature_c</th>\n",
       "      <th>feature_ct</th>\n",
       "      <th>feature_motorspeed</th>\n",
       "      <th>ambient_temp</th>\n",
       "      <th>car_speed</th>\n",
       "      <th>soc</th>\n",
       "    </tr>\n",
       "  </thead>\n",
       "  <tbody>\n",
       "    <tr>\n",
       "      <th>0</th>\n",
       "      <td>1672911588170</td>\n",
       "      <td>68.860123</td>\n",
       "      <td>18.346718</td>\n",
       "      <td>-4.281718</td>\n",
       "      <td>20.947325</td>\n",
       "      <td>-1.0</td>\n",
       "      <td>68.902439</td>\n",
       "      <td>-3.9</td>\n",
       "      <td>1.05</td>\n",
       "      <td>84.199997</td>\n",
       "    </tr>\n",
       "    <tr>\n",
       "      <th>1</th>\n",
       "      <td>1672911588180</td>\n",
       "      <td>68.860123</td>\n",
       "      <td>18.346718</td>\n",
       "      <td>-4.281718</td>\n",
       "      <td>20.947325</td>\n",
       "      <td>-1.0</td>\n",
       "      <td>68.902439</td>\n",
       "      <td>-3.9</td>\n",
       "      <td>1.05</td>\n",
       "      <td>84.199997</td>\n",
       "    </tr>\n",
       "    <tr>\n",
       "      <th>2</th>\n",
       "      <td>1672911588190</td>\n",
       "      <td>68.860123</td>\n",
       "      <td>18.346718</td>\n",
       "      <td>-4.281718</td>\n",
       "      <td>20.947325</td>\n",
       "      <td>-1.0</td>\n",
       "      <td>68.902439</td>\n",
       "      <td>-3.9</td>\n",
       "      <td>1.05</td>\n",
       "      <td>84.199997</td>\n",
       "    </tr>\n",
       "    <tr>\n",
       "      <th>3</th>\n",
       "      <td>1672911588200</td>\n",
       "      <td>68.860123</td>\n",
       "      <td>18.346718</td>\n",
       "      <td>-4.281718</td>\n",
       "      <td>21.361129</td>\n",
       "      <td>-1.0</td>\n",
       "      <td>70.731707</td>\n",
       "      <td>-3.9</td>\n",
       "      <td>1.05</td>\n",
       "      <td>84.199997</td>\n",
       "    </tr>\n",
       "    <tr>\n",
       "      <th>4</th>\n",
       "      <td>1672911588210</td>\n",
       "      <td>68.860123</td>\n",
       "      <td>18.346718</td>\n",
       "      <td>-4.281718</td>\n",
       "      <td>21.361129</td>\n",
       "      <td>-1.0</td>\n",
       "      <td>70.731707</td>\n",
       "      <td>-3.9</td>\n",
       "      <td>1.11</td>\n",
       "      <td>84.199997</td>\n",
       "    </tr>\n",
       "    <tr>\n",
       "      <th>5</th>\n",
       "      <td>1672911588220</td>\n",
       "      <td>68.860123</td>\n",
       "      <td>18.346718</td>\n",
       "      <td>-4.281718</td>\n",
       "      <td>21.361129</td>\n",
       "      <td>-1.0</td>\n",
       "      <td>70.731707</td>\n",
       "      <td>-3.9</td>\n",
       "      <td>1.11</td>\n",
       "      <td>84.199997</td>\n",
       "    </tr>\n",
       "    <tr>\n",
       "      <th>6</th>\n",
       "      <td>1672911588230</td>\n",
       "      <td>68.860123</td>\n",
       "      <td>18.346718</td>\n",
       "      <td>-4.281718</td>\n",
       "      <td>21.361129</td>\n",
       "      <td>-1.0</td>\n",
       "      <td>70.731707</td>\n",
       "      <td>-3.9</td>\n",
       "      <td>1.11</td>\n",
       "      <td>84.199997</td>\n",
       "    </tr>\n",
       "    <tr>\n",
       "      <th>7</th>\n",
       "      <td>1672911588240</td>\n",
       "      <td>68.860123</td>\n",
       "      <td>18.346718</td>\n",
       "      <td>-4.281718</td>\n",
       "      <td>21.361129</td>\n",
       "      <td>-1.0</td>\n",
       "      <td>70.731707</td>\n",
       "      <td>-3.9</td>\n",
       "      <td>1.11</td>\n",
       "      <td>84.199997</td>\n",
       "    </tr>\n",
       "    <tr>\n",
       "      <th>8</th>\n",
       "      <td>1672911588250</td>\n",
       "      <td>68.860123</td>\n",
       "      <td>18.346718</td>\n",
       "      <td>-4.281718</td>\n",
       "      <td>20.629015</td>\n",
       "      <td>-1.0</td>\n",
       "      <td>72.560976</td>\n",
       "      <td>-3.9</td>\n",
       "      <td>1.17</td>\n",
       "      <td>84.199997</td>\n",
       "    </tr>\n",
       "    <tr>\n",
       "      <th>9</th>\n",
       "      <td>1672911588260</td>\n",
       "      <td>68.860123</td>\n",
       "      <td>18.346718</td>\n",
       "      <td>-4.281718</td>\n",
       "      <td>20.629015</td>\n",
       "      <td>-1.0</td>\n",
       "      <td>72.560976</td>\n",
       "      <td>-3.9</td>\n",
       "      <td>1.17</td>\n",
       "      <td>84.199997</td>\n",
       "    </tr>\n",
       "  </tbody>\n",
       "</table>\n",
       "</div>"
      ],
      "text/plain": [
       "         rtctime        lat        lon  target_temperature  feature_c  \\\n",
       "0  1672911588170  68.860123  18.346718           -4.281718  20.947325   \n",
       "1  1672911588180  68.860123  18.346718           -4.281718  20.947325   \n",
       "2  1672911588190  68.860123  18.346718           -4.281718  20.947325   \n",
       "3  1672911588200  68.860123  18.346718           -4.281718  21.361129   \n",
       "4  1672911588210  68.860123  18.346718           -4.281718  21.361129   \n",
       "5  1672911588220  68.860123  18.346718           -4.281718  21.361129   \n",
       "6  1672911588230  68.860123  18.346718           -4.281718  21.361129   \n",
       "7  1672911588240  68.860123  18.346718           -4.281718  21.361129   \n",
       "8  1672911588250  68.860123  18.346718           -4.281718  20.629015   \n",
       "9  1672911588260  68.860123  18.346718           -4.281718  20.629015   \n",
       "\n",
       "   feature_ct  feature_motorspeed  ambient_temp  car_speed        soc  \n",
       "0        -1.0           68.902439          -3.9       1.05  84.199997  \n",
       "1        -1.0           68.902439          -3.9       1.05  84.199997  \n",
       "2        -1.0           68.902439          -3.9       1.05  84.199997  \n",
       "3        -1.0           70.731707          -3.9       1.05  84.199997  \n",
       "4        -1.0           70.731707          -3.9       1.11  84.199997  \n",
       "5        -1.0           70.731707          -3.9       1.11  84.199997  \n",
       "6        -1.0           70.731707          -3.9       1.11  84.199997  \n",
       "7        -1.0           70.731707          -3.9       1.11  84.199997  \n",
       "8        -1.0           72.560976          -3.9       1.17  84.199997  \n",
       "9        -1.0           72.560976          -3.9       1.17  84.199997  "
      ]
     },
     "execution_count": 3,
     "metadata": {},
     "output_type": "execute_result"
    }
   ],
   "source": [
    "data = data.reset_index()\n",
    "data.drop(['index'],1,inplace=True)\n",
    "print('Before removing duplicates data shape: ',data.shape)\n",
    "data = data.drop_duplicates(subset = ['rtctime'], keep = 'first')\n",
    "print('After removing duplicates data shape: ',data.shape)\n",
    "data = data.sort_values(by = 'rtctime', ascending = True)\n",
    "data = data.reset_index()\n",
    "data.drop(['index'],1,inplace=True)\n",
    "data.head(10)"
   ]
  },
  {
   "cell_type": "code",
   "execution_count": 4,
   "metadata": {},
   "outputs": [
    {
     "name": "stderr",
     "output_type": "stream",
     "text": [
      "C:\\Users\\Yash\\Anaconda3\\lib\\site-packages\\ipykernel_launcher.py:1: FutureWarning: In a future version of pandas all arguments of DataFrame.drop except for the argument 'labels' will be keyword-only\n",
      "  \"\"\"Entry point for launching an IPython kernel.\n"
     ]
    },
    {
     "data": {
      "text/plain": [
       "Index(['target_temperature', 'feature_c', 'feature_ct', 'feature_motorspeed',\n",
       "       'ambient_temp', 'car_speed', 'soc'],\n",
       "      dtype='object')"
      ]
     },
     "execution_count": 4,
     "metadata": {},
     "output_type": "execute_result"
    }
   ],
   "source": [
    "data = data.drop(['rtctime','lat','lon'],1)\n",
    "data.columns"
   ]
  },
  {
   "cell_type": "code",
   "execution_count": 5,
   "metadata": {},
   "outputs": [],
   "source": [
    "copy_data = data.copy()"
   ]
  },
  {
   "cell_type": "code",
   "execution_count": 29,
   "metadata": {},
   "outputs": [
    {
     "data": {
      "text/html": [
       "<div>\n",
       "<style scoped>\n",
       "    .dataframe tbody tr th:only-of-type {\n",
       "        vertical-align: middle;\n",
       "    }\n",
       "\n",
       "    .dataframe tbody tr th {\n",
       "        vertical-align: top;\n",
       "    }\n",
       "\n",
       "    .dataframe thead th {\n",
       "        text-align: right;\n",
       "    }\n",
       "</style>\n",
       "<table border=\"1\" class=\"dataframe\">\n",
       "  <thead>\n",
       "    <tr style=\"text-align: right;\">\n",
       "      <th></th>\n",
       "      <th>target_temperature</th>\n",
       "      <th>feature_c</th>\n",
       "      <th>feature_ct</th>\n",
       "      <th>feature_motorspeed</th>\n",
       "      <th>ambient_temp</th>\n",
       "      <th>car_speed</th>\n",
       "      <th>soc</th>\n",
       "    </tr>\n",
       "  </thead>\n",
       "  <tbody>\n",
       "    <tr>\n",
       "      <th>7</th>\n",
       "      <td>-4.281718</td>\n",
       "      <td>21.242899</td>\n",
       "      <td>-1.0</td>\n",
       "      <td>70.209059</td>\n",
       "      <td>-3.9</td>\n",
       "      <td>1.084286</td>\n",
       "      <td>84.199997</td>\n",
       "    </tr>\n",
       "    <tr>\n",
       "      <th>8</th>\n",
       "      <td>-4.281718</td>\n",
       "      <td>21.197426</td>\n",
       "      <td>-1.0</td>\n",
       "      <td>70.731707</td>\n",
       "      <td>-3.9</td>\n",
       "      <td>1.101429</td>\n",
       "      <td>84.199997</td>\n",
       "    </tr>\n",
       "    <tr>\n",
       "      <th>9</th>\n",
       "      <td>-4.281718</td>\n",
       "      <td>21.151953</td>\n",
       "      <td>-1.0</td>\n",
       "      <td>71.254355</td>\n",
       "      <td>-3.9</td>\n",
       "      <td>1.118571</td>\n",
       "      <td>84.199997</td>\n",
       "    </tr>\n",
       "    <tr>\n",
       "      <th>10</th>\n",
       "      <td>-4.281718</td>\n",
       "      <td>21.047366</td>\n",
       "      <td>-1.0</td>\n",
       "      <td>71.515679</td>\n",
       "      <td>-3.9</td>\n",
       "      <td>1.135714</td>\n",
       "      <td>84.199997</td>\n",
       "    </tr>\n",
       "    <tr>\n",
       "      <th>11</th>\n",
       "      <td>-4.281718</td>\n",
       "      <td>20.942778</td>\n",
       "      <td>-1.0</td>\n",
       "      <td>71.777003</td>\n",
       "      <td>-3.9</td>\n",
       "      <td>1.144286</td>\n",
       "      <td>84.199997</td>\n",
       "    </tr>\n",
       "    <tr>\n",
       "      <th>12</th>\n",
       "      <td>-4.281718</td>\n",
       "      <td>20.838190</td>\n",
       "      <td>-1.0</td>\n",
       "      <td>72.038328</td>\n",
       "      <td>-3.9</td>\n",
       "      <td>1.160000</td>\n",
       "      <td>84.199997</td>\n",
       "    </tr>\n",
       "    <tr>\n",
       "      <th>13</th>\n",
       "      <td>-4.281718</td>\n",
       "      <td>20.783623</td>\n",
       "      <td>-1.0</td>\n",
       "      <td>72.560976</td>\n",
       "      <td>-3.9</td>\n",
       "      <td>1.175714</td>\n",
       "      <td>84.199997</td>\n",
       "    </tr>\n",
       "    <tr>\n",
       "      <th>14</th>\n",
       "      <td>-4.281718</td>\n",
       "      <td>20.729055</td>\n",
       "      <td>-1.0</td>\n",
       "      <td>73.083624</td>\n",
       "      <td>-3.9</td>\n",
       "      <td>1.191429</td>\n",
       "      <td>84.199997</td>\n",
       "    </tr>\n",
       "    <tr>\n",
       "      <th>15</th>\n",
       "      <td>-4.281718</td>\n",
       "      <td>20.779076</td>\n",
       "      <td>-1.0</td>\n",
       "      <td>73.344948</td>\n",
       "      <td>-3.9</td>\n",
       "      <td>1.198571</td>\n",
       "      <td>84.199997</td>\n",
       "    </tr>\n",
       "    <tr>\n",
       "      <th>16</th>\n",
       "      <td>-4.281718</td>\n",
       "      <td>20.829096</td>\n",
       "      <td>-1.0</td>\n",
       "      <td>73.606272</td>\n",
       "      <td>-3.9</td>\n",
       "      <td>1.212857</td>\n",
       "      <td>84.199997</td>\n",
       "    </tr>\n",
       "  </tbody>\n",
       "</table>\n",
       "</div>"
      ],
      "text/plain": [
       "    target_temperature  feature_c  feature_ct  feature_motorspeed  \\\n",
       "7            -4.281718  21.242899        -1.0           70.209059   \n",
       "8            -4.281718  21.197426        -1.0           70.731707   \n",
       "9            -4.281718  21.151953        -1.0           71.254355   \n",
       "10           -4.281718  21.047366        -1.0           71.515679   \n",
       "11           -4.281718  20.942778        -1.0           71.777003   \n",
       "12           -4.281718  20.838190        -1.0           72.038328   \n",
       "13           -4.281718  20.783623        -1.0           72.560976   \n",
       "14           -4.281718  20.729055        -1.0           73.083624   \n",
       "15           -4.281718  20.779076        -1.0           73.344948   \n",
       "16           -4.281718  20.829096        -1.0           73.606272   \n",
       "\n",
       "    ambient_temp  car_speed        soc  \n",
       "7           -3.9   1.084286  84.199997  \n",
       "8           -3.9   1.101429  84.199997  \n",
       "9           -3.9   1.118571  84.199997  \n",
       "10          -3.9   1.135714  84.199997  \n",
       "11          -3.9   1.144286  84.199997  \n",
       "12          -3.9   1.160000  84.199997  \n",
       "13          -3.9   1.175714  84.199997  \n",
       "14          -3.9   1.191429  84.199997  \n",
       "15          -3.9   1.198571  84.199997  \n",
       "16          -3.9   1.212857  84.199997  "
      ]
     },
     "execution_count": 29,
     "metadata": {},
     "output_type": "execute_result"
    }
   ],
   "source": [
    "data_diff = data.rolling(window=7, min_periods=7).mean()\n",
    "data_diff = data_diff[7:]\n",
    "data_diff.head(10)"
   ]
  },
  {
   "cell_type": "code",
   "execution_count": 30,
   "metadata": {},
   "outputs": [
    {
     "data": {
      "text/html": [
       "<div>\n",
       "<style scoped>\n",
       "    .dataframe tbody tr th:only-of-type {\n",
       "        vertical-align: middle;\n",
       "    }\n",
       "\n",
       "    .dataframe tbody tr th {\n",
       "        vertical-align: top;\n",
       "    }\n",
       "\n",
       "    .dataframe thead th {\n",
       "        text-align: right;\n",
       "    }\n",
       "</style>\n",
       "<table border=\"1\" class=\"dataframe\">\n",
       "  <thead>\n",
       "    <tr style=\"text-align: right;\">\n",
       "      <th></th>\n",
       "      <th>target_temperature</th>\n",
       "      <th>feature_c</th>\n",
       "      <th>feature_ct</th>\n",
       "      <th>feature_motorspeed</th>\n",
       "      <th>ambient_temp</th>\n",
       "      <th>car_speed</th>\n",
       "      <th>soc</th>\n",
       "    </tr>\n",
       "  </thead>\n",
       "  <tbody>\n",
       "    <tr>\n",
       "      <th>27</th>\n",
       "      <td>-4.281718</td>\n",
       "      <td>20.656300</td>\n",
       "      <td>-1.0</td>\n",
       "      <td>78.919861</td>\n",
       "      <td>-3.9</td>\n",
       "      <td>1.328571</td>\n",
       "      <td>84.199997</td>\n",
       "    </tr>\n",
       "    <tr>\n",
       "      <th>28</th>\n",
       "      <td>-4.281718</td>\n",
       "      <td>20.592638</td>\n",
       "      <td>-1.0</td>\n",
       "      <td>79.529617</td>\n",
       "      <td>-3.9</td>\n",
       "      <td>1.341429</td>\n",
       "      <td>84.199997</td>\n",
       "    </tr>\n",
       "    <tr>\n",
       "      <th>29</th>\n",
       "      <td>-4.281718</td>\n",
       "      <td>20.528976</td>\n",
       "      <td>-1.0</td>\n",
       "      <td>80.139373</td>\n",
       "      <td>-3.9</td>\n",
       "      <td>1.354286</td>\n",
       "      <td>84.199997</td>\n",
       "    </tr>\n",
       "    <tr>\n",
       "      <th>30</th>\n",
       "      <td>-4.281718</td>\n",
       "      <td>20.510786</td>\n",
       "      <td>-1.0</td>\n",
       "      <td>80.574913</td>\n",
       "      <td>-3.9</td>\n",
       "      <td>1.367143</td>\n",
       "      <td>84.199997</td>\n",
       "    </tr>\n",
       "    <tr>\n",
       "      <th>31</th>\n",
       "      <td>-4.281718</td>\n",
       "      <td>20.492597</td>\n",
       "      <td>-1.0</td>\n",
       "      <td>81.010453</td>\n",
       "      <td>-3.9</td>\n",
       "      <td>1.372857</td>\n",
       "      <td>84.199997</td>\n",
       "    </tr>\n",
       "    <tr>\n",
       "      <th>32</th>\n",
       "      <td>-4.281718</td>\n",
       "      <td>20.474408</td>\n",
       "      <td>-1.0</td>\n",
       "      <td>81.445993</td>\n",
       "      <td>-3.9</td>\n",
       "      <td>1.381429</td>\n",
       "      <td>84.199997</td>\n",
       "    </tr>\n",
       "    <tr>\n",
       "      <th>33</th>\n",
       "      <td>-4.281718</td>\n",
       "      <td>20.474408</td>\n",
       "      <td>-1.0</td>\n",
       "      <td>82.491289</td>\n",
       "      <td>-3.9</td>\n",
       "      <td>1.390000</td>\n",
       "      <td>84.199997</td>\n",
       "    </tr>\n",
       "    <tr>\n",
       "      <th>34</th>\n",
       "      <td>-4.281718</td>\n",
       "      <td>20.474408</td>\n",
       "      <td>-1.0</td>\n",
       "      <td>83.536585</td>\n",
       "      <td>-3.9</td>\n",
       "      <td>1.398571</td>\n",
       "      <td>84.199997</td>\n",
       "    </tr>\n",
       "    <tr>\n",
       "      <th>35</th>\n",
       "      <td>-4.281718</td>\n",
       "      <td>20.492597</td>\n",
       "      <td>-1.0</td>\n",
       "      <td>84.146341</td>\n",
       "      <td>-3.9</td>\n",
       "      <td>1.401429</td>\n",
       "      <td>84.199997</td>\n",
       "    </tr>\n",
       "    <tr>\n",
       "      <th>36</th>\n",
       "      <td>-4.281718</td>\n",
       "      <td>20.510786</td>\n",
       "      <td>-1.0</td>\n",
       "      <td>84.756098</td>\n",
       "      <td>-3.9</td>\n",
       "      <td>1.411429</td>\n",
       "      <td>84.199997</td>\n",
       "    </tr>\n",
       "    <tr>\n",
       "      <th>37</th>\n",
       "      <td>-4.281718</td>\n",
       "      <td>20.528976</td>\n",
       "      <td>-1.0</td>\n",
       "      <td>85.365854</td>\n",
       "      <td>-3.9</td>\n",
       "      <td>1.421429</td>\n",
       "      <td>84.199997</td>\n",
       "    </tr>\n",
       "    <tr>\n",
       "      <th>38</th>\n",
       "      <td>-4.281718</td>\n",
       "      <td>20.578996</td>\n",
       "      <td>-1.0</td>\n",
       "      <td>86.236934</td>\n",
       "      <td>-3.9</td>\n",
       "      <td>1.431429</td>\n",
       "      <td>84.199997</td>\n",
       "    </tr>\n",
       "    <tr>\n",
       "      <th>39</th>\n",
       "      <td>-4.281718</td>\n",
       "      <td>20.629016</td>\n",
       "      <td>-1.0</td>\n",
       "      <td>87.108014</td>\n",
       "      <td>-3.9</td>\n",
       "      <td>1.438571</td>\n",
       "      <td>84.199997</td>\n",
       "    </tr>\n",
       "    <tr>\n",
       "      <th>40</th>\n",
       "      <td>-4.281718</td>\n",
       "      <td>20.660846</td>\n",
       "      <td>-1.0</td>\n",
       "      <td>87.369338</td>\n",
       "      <td>-3.9</td>\n",
       "      <td>1.452857</td>\n",
       "      <td>84.199997</td>\n",
       "    </tr>\n",
       "    <tr>\n",
       "      <th>41</th>\n",
       "      <td>-4.281718</td>\n",
       "      <td>20.692677</td>\n",
       "      <td>-1.0</td>\n",
       "      <td>87.630662</td>\n",
       "      <td>-3.9</td>\n",
       "      <td>1.467143</td>\n",
       "      <td>84.199997</td>\n",
       "    </tr>\n",
       "    <tr>\n",
       "      <th>42</th>\n",
       "      <td>-4.281718</td>\n",
       "      <td>20.724508</td>\n",
       "      <td>-1.0</td>\n",
       "      <td>87.891986</td>\n",
       "      <td>-3.9</td>\n",
       "      <td>1.481429</td>\n",
       "      <td>84.199997</td>\n",
       "    </tr>\n",
       "    <tr>\n",
       "      <th>43</th>\n",
       "      <td>-4.281718</td>\n",
       "      <td>20.751792</td>\n",
       "      <td>-1.0</td>\n",
       "      <td>88.763066</td>\n",
       "      <td>-3.9</td>\n",
       "      <td>1.488571</td>\n",
       "      <td>84.199997</td>\n",
       "    </tr>\n",
       "    <tr>\n",
       "      <th>44</th>\n",
       "      <td>-4.281718</td>\n",
       "      <td>20.779075</td>\n",
       "      <td>-1.0</td>\n",
       "      <td>89.634146</td>\n",
       "      <td>-3.9</td>\n",
       "      <td>1.502857</td>\n",
       "      <td>84.199997</td>\n",
       "    </tr>\n",
       "    <tr>\n",
       "      <th>45</th>\n",
       "      <td>-4.281718</td>\n",
       "      <td>20.774528</td>\n",
       "      <td>-1.0</td>\n",
       "      <td>90.243902</td>\n",
       "      <td>-3.9</td>\n",
       "      <td>1.517143</td>\n",
       "      <td>84.199997</td>\n",
       "    </tr>\n",
       "    <tr>\n",
       "      <th>46</th>\n",
       "      <td>-4.281718</td>\n",
       "      <td>20.769981</td>\n",
       "      <td>-1.0</td>\n",
       "      <td>90.853659</td>\n",
       "      <td>-3.9</td>\n",
       "      <td>1.531429</td>\n",
       "      <td>84.199997</td>\n",
       "    </tr>\n",
       "    <tr>\n",
       "      <th>47</th>\n",
       "      <td>-4.281718</td>\n",
       "      <td>20.765434</td>\n",
       "      <td>-1.0</td>\n",
       "      <td>91.463415</td>\n",
       "      <td>-3.9</td>\n",
       "      <td>1.538571</td>\n",
       "      <td>84.199997</td>\n",
       "    </tr>\n",
       "    <tr>\n",
       "      <th>48</th>\n",
       "      <td>-4.281718</td>\n",
       "      <td>20.701772</td>\n",
       "      <td>-1.0</td>\n",
       "      <td>92.508711</td>\n",
       "      <td>-3.9</td>\n",
       "      <td>1.552857</td>\n",
       "      <td>84.199997</td>\n",
       "    </tr>\n",
       "    <tr>\n",
       "      <th>49</th>\n",
       "      <td>-4.281718</td>\n",
       "      <td>20.638110</td>\n",
       "      <td>-1.0</td>\n",
       "      <td>93.554007</td>\n",
       "      <td>-3.9</td>\n",
       "      <td>1.567143</td>\n",
       "      <td>84.199997</td>\n",
       "    </tr>\n",
       "    <tr>\n",
       "      <th>50</th>\n",
       "      <td>-4.281718</td>\n",
       "      <td>20.578995</td>\n",
       "      <td>-1.0</td>\n",
       "      <td>93.989547</td>\n",
       "      <td>-3.9</td>\n",
       "      <td>1.581429</td>\n",
       "      <td>84.199997</td>\n",
       "    </tr>\n",
       "    <tr>\n",
       "      <th>51</th>\n",
       "      <td>-4.281718</td>\n",
       "      <td>20.519881</td>\n",
       "      <td>-1.0</td>\n",
       "      <td>94.425087</td>\n",
       "      <td>-3.9</td>\n",
       "      <td>1.588571</td>\n",
       "      <td>84.199997</td>\n",
       "    </tr>\n",
       "    <tr>\n",
       "      <th>52</th>\n",
       "      <td>-4.281718</td>\n",
       "      <td>20.460766</td>\n",
       "      <td>-1.0</td>\n",
       "      <td>94.860627</td>\n",
       "      <td>-3.9</td>\n",
       "      <td>1.601429</td>\n",
       "      <td>84.199997</td>\n",
       "    </tr>\n",
       "    <tr>\n",
       "      <th>53</th>\n",
       "      <td>-4.281718</td>\n",
       "      <td>20.388010</td>\n",
       "      <td>-1.0</td>\n",
       "      <td>95.818815</td>\n",
       "      <td>-3.9</td>\n",
       "      <td>1.614286</td>\n",
       "      <td>84.199997</td>\n",
       "    </tr>\n",
       "    <tr>\n",
       "      <th>54</th>\n",
       "      <td>-4.281718</td>\n",
       "      <td>20.315253</td>\n",
       "      <td>-1.0</td>\n",
       "      <td>96.777003</td>\n",
       "      <td>-3.9</td>\n",
       "      <td>1.627143</td>\n",
       "      <td>84.199997</td>\n",
       "    </tr>\n",
       "    <tr>\n",
       "      <th>55</th>\n",
       "      <td>-4.281718</td>\n",
       "      <td>20.301611</td>\n",
       "      <td>-1.0</td>\n",
       "      <td>97.299652</td>\n",
       "      <td>-3.9</td>\n",
       "      <td>1.632857</td>\n",
       "      <td>84.199997</td>\n",
       "    </tr>\n",
       "    <tr>\n",
       "      <th>56</th>\n",
       "      <td>-4.281718</td>\n",
       "      <td>20.287969</td>\n",
       "      <td>-1.0</td>\n",
       "      <td>97.822300</td>\n",
       "      <td>-3.9</td>\n",
       "      <td>1.645714</td>\n",
       "      <td>84.199997</td>\n",
       "    </tr>\n",
       "  </tbody>\n",
       "</table>\n",
       "</div>"
      ],
      "text/plain": [
       "    target_temperature  feature_c  feature_ct  feature_motorspeed  \\\n",
       "27           -4.281718  20.656300        -1.0           78.919861   \n",
       "28           -4.281718  20.592638        -1.0           79.529617   \n",
       "29           -4.281718  20.528976        -1.0           80.139373   \n",
       "30           -4.281718  20.510786        -1.0           80.574913   \n",
       "31           -4.281718  20.492597        -1.0           81.010453   \n",
       "32           -4.281718  20.474408        -1.0           81.445993   \n",
       "33           -4.281718  20.474408        -1.0           82.491289   \n",
       "34           -4.281718  20.474408        -1.0           83.536585   \n",
       "35           -4.281718  20.492597        -1.0           84.146341   \n",
       "36           -4.281718  20.510786        -1.0           84.756098   \n",
       "37           -4.281718  20.528976        -1.0           85.365854   \n",
       "38           -4.281718  20.578996        -1.0           86.236934   \n",
       "39           -4.281718  20.629016        -1.0           87.108014   \n",
       "40           -4.281718  20.660846        -1.0           87.369338   \n",
       "41           -4.281718  20.692677        -1.0           87.630662   \n",
       "42           -4.281718  20.724508        -1.0           87.891986   \n",
       "43           -4.281718  20.751792        -1.0           88.763066   \n",
       "44           -4.281718  20.779075        -1.0           89.634146   \n",
       "45           -4.281718  20.774528        -1.0           90.243902   \n",
       "46           -4.281718  20.769981        -1.0           90.853659   \n",
       "47           -4.281718  20.765434        -1.0           91.463415   \n",
       "48           -4.281718  20.701772        -1.0           92.508711   \n",
       "49           -4.281718  20.638110        -1.0           93.554007   \n",
       "50           -4.281718  20.578995        -1.0           93.989547   \n",
       "51           -4.281718  20.519881        -1.0           94.425087   \n",
       "52           -4.281718  20.460766        -1.0           94.860627   \n",
       "53           -4.281718  20.388010        -1.0           95.818815   \n",
       "54           -4.281718  20.315253        -1.0           96.777003   \n",
       "55           -4.281718  20.301611        -1.0           97.299652   \n",
       "56           -4.281718  20.287969        -1.0           97.822300   \n",
       "\n",
       "    ambient_temp  car_speed        soc  \n",
       "27          -3.9   1.328571  84.199997  \n",
       "28          -3.9   1.341429  84.199997  \n",
       "29          -3.9   1.354286  84.199997  \n",
       "30          -3.9   1.367143  84.199997  \n",
       "31          -3.9   1.372857  84.199997  \n",
       "32          -3.9   1.381429  84.199997  \n",
       "33          -3.9   1.390000  84.199997  \n",
       "34          -3.9   1.398571  84.199997  \n",
       "35          -3.9   1.401429  84.199997  \n",
       "36          -3.9   1.411429  84.199997  \n",
       "37          -3.9   1.421429  84.199997  \n",
       "38          -3.9   1.431429  84.199997  \n",
       "39          -3.9   1.438571  84.199997  \n",
       "40          -3.9   1.452857  84.199997  \n",
       "41          -3.9   1.467143  84.199997  \n",
       "42          -3.9   1.481429  84.199997  \n",
       "43          -3.9   1.488571  84.199997  \n",
       "44          -3.9   1.502857  84.199997  \n",
       "45          -3.9   1.517143  84.199997  \n",
       "46          -3.9   1.531429  84.199997  \n",
       "47          -3.9   1.538571  84.199997  \n",
       "48          -3.9   1.552857  84.199997  \n",
       "49          -3.9   1.567143  84.199997  \n",
       "50          -3.9   1.581429  84.199997  \n",
       "51          -3.9   1.588571  84.199997  \n",
       "52          -3.9   1.601429  84.199997  \n",
       "53          -3.9   1.614286  84.199997  \n",
       "54          -3.9   1.627143  84.199997  \n",
       "55          -3.9   1.632857  84.199997  \n",
       "56          -3.9   1.645714  84.199997  "
      ]
     },
     "execution_count": 30,
     "metadata": {},
     "output_type": "execute_result"
    }
   ],
   "source": [
    "data_diff.iloc[20:50]"
   ]
  },
  {
   "cell_type": "code",
   "execution_count": 31,
   "metadata": {},
   "outputs": [],
   "source": [
    "data_diff = data_diff.reset_index()"
   ]
  },
  {
   "cell_type": "code",
   "execution_count": 48,
   "metadata": {},
   "outputs": [
    {
     "name": "stderr",
     "output_type": "stream",
     "text": [
      "C:\\Users\\Yash\\Anaconda3\\lib\\site-packages\\pandas\\core\\indexes\\range.py:839: FutureWarning: Support for multi-dimensional indexing (e.g. `obj[:, None]`) is deprecated and will be removed in a future version.  Convert to a numpy array before indexing instead.\n",
      "  return super().__getitem__(key)\n",
      "C:\\Users\\Yash\\Anaconda3\\lib\\site-packages\\matplotlib\\cbook\\__init__.py:1377: FutureWarning: Support for multi-dimensional indexing (e.g. `obj[:, None]`) is deprecated and will be removed in a future version.  Convert to a numpy array before indexing instead.\n",
      "  x[:, None]\n",
      "C:\\Users\\Yash\\Anaconda3\\lib\\site-packages\\matplotlib\\axes\\_base.py:239: FutureWarning: Support for multi-dimensional indexing (e.g. `obj[:, None]`) is deprecated and will be removed in a future version.  Convert to a numpy array before indexing instead.\n",
      "  y = y[:, np.newaxis]\n"
     ]
    },
    {
     "data": {
      "image/png": "[encoded data removed]",
      "text/plain": [
       "<Figure size 1152x576 with 1 Axes>"
      ]
     },
     "metadata": {
      "needs_background": "light"
     },
     "output_type": "display_data"
    }
   ],
   "source": [
    "plt.figure(figsize = (16,8))\n",
    "plt.plot(data_diff.index, data_diff.target_temperature)\n",
    "plt.show()"
   ]
  },
  {
   "cell_type": "code",
   "execution_count": 6,
   "metadata": {
    "colab": {
     "base_uri": "https://localhost:8080/"
    },
    "id": "hT2du6eSFZw8",
    "outputId": "08633519-f806-404a-d08c-9ccf0dc10f83"
   },
   "outputs": [
    {
     "name": "stdout",
     "output_type": "stream",
     "text": [
      "Independent features shape:  (8156409, 6) Target variable shape:  (8156409,)\n"
     ]
    },
    {
     "name": "stderr",
     "output_type": "stream",
     "text": [
      "C:\\Users\\Yash\\Anaconda3\\lib\\site-packages\\ipykernel_launcher.py:1: FutureWarning: In a future version of pandas all arguments of DataFrame.drop except for the argument 'labels' will be keyword-only\n",
      "  \"\"\"Entry point for launching an IPython kernel.\n"
     ]
    }
   ],
   "source": [
    "X = data.drop(['target_temperature'],1)\n",
    "y = data['target_temperature']\n",
    "print('Independent features shape: ', X.shape, 'Target variable shape: ', y.shape)"
   ]
  },
  {
   "cell_type": "code",
   "execution_count": 7,
   "metadata": {},
   "outputs": [
    {
     "data": {
      "text/plain": [
       "feature_c              13.920000\n",
       "feature_ct             -0.750000\n",
       "feature_motorspeed    118.902439\n",
       "ambient_temp           -2.850000\n",
       "car_speed               2.280000\n",
       "soc                    63.149998\n",
       "Name: 200, dtype: float64"
      ]
     },
     "execution_count": 7,
     "metadata": {},
     "output_type": "execute_result"
    }
   ],
   "source": [
    "for i in range(0,len(X),100):\n",
    "    X.iloc[i] = X.iloc[i] * 0.75\n",
    "    \n",
    "X.iloc[200]\n",
    "# print(data.iloc[100])\n",
    "# data.iloc[100] = data.iloc[100]*0.1\n",
    "# data.iloc[100]"
   ]
  },
  {
   "cell_type": "code",
   "execution_count": 8,
   "metadata": {},
   "outputs": [
    {
     "data": {
      "text/plain": [
       "target_temperature     -4.281718\n",
       "feature_c              18.560001\n",
       "feature_ct             -1.000000\n",
       "feature_motorspeed    158.536585\n",
       "ambient_temp           -3.800000\n",
       "car_speed               3.040000\n",
       "soc                    84.199997\n",
       "Name: 200, dtype: float64"
      ]
     },
     "execution_count": 8,
     "metadata": {},
     "output_type": "execute_result"
    }
   ],
   "source": [
    "data.iloc[200]"
   ]
  },
  {
   "cell_type": "code",
   "execution_count": 9,
   "metadata": {
    "colab": {
     "base_uri": "https://localhost:8080/",
     "height": 655
    },
    "id": "G2bHoFi5GTkw",
    "outputId": "cbbda7ab-260d-4d59-98e7-7cad37704435"
   },
   "outputs": [
    {
     "data": {
      "image/png": "[encoded data removed]",
      "text/plain": [
       "<Figure size 432x432 with 2 Axes>"
      ]
     },
     "metadata": {
      "needs_background": "light"
     },
     "output_type": "display_data"
    }
   ],
   "source": [
    "feature_corr = X.corr()\n",
    "plt.figure(figsize=(6,6))\n",
    "sns.heatmap(feature_corr, annot = True)\n",
    "plt.show()"
   ]
  },
  {
   "cell_type": "code",
   "execution_count": 10,
   "metadata": {
    "colab": {
     "base_uri": "https://localhost:8080/"
    },
    "id": "XBo71yX_Gryi",
    "outputId": "561472aa-3dce-469c-e210-40e7f7fa5313"
   },
   "outputs": [],
   "source": [
    "# std_scaler = StandardScaler()\n",
    "# X_scaled = std_scaler.fit_transform(X)\n",
    "# X_scaled"
   ]
  },
  {
   "cell_type": "code",
   "execution_count": 11,
   "metadata": {
    "colab": {
     "base_uri": "https://localhost:8080/"
    },
    "id": "qe13gxI7H0WE",
    "outputId": "aa1f9952-35a4-47ec-80da-70c8c83bbcc0"
   },
   "outputs": [
    {
     "name": "stdout",
     "output_type": "stream",
     "text": [
      "(5709486, 6) (2446923, 6) (5709486,) (2446923,)\n"
     ]
    }
   ],
   "source": [
    "X_train, X_test, y_train, y_test = train_test_split(X, y, test_size = 0.3)\n",
    "print(X_train.shape, X_test.shape, y_train.shape, y_test.shape)"
   ]
  },
  {
   "cell_type": "markdown",
   "metadata": {
    "id": "_C6FYsfu6yFk"
   },
   "source": [
    "RANDOM FOREST REGRESSOR"
   ]
  },
  {
   "cell_type": "code",
   "execution_count": 12,
   "metadata": {
    "colab": {
     "base_uri": "https://localhost:8080/",
     "height": 74
    },
    "id": "XufabhtBHPuS",
    "outputId": "c5c4292d-15e7-489e-dee3-9c9844971793"
   },
   "outputs": [
    {
     "data": {
      "text/plain": [
       "RandomForestRegressor(bootstrap=True, ccp_alpha=0.0, criterion='mse',\n",
       "                      max_depth=5, max_features='auto', max_leaf_nodes=None,\n",
       "                      max_samples=None, min_impurity_decrease=0.0,\n",
       "                      min_impurity_split=None, min_samples_leaf=1,\n",
       "                      min_samples_split=2, min_weight_fraction_leaf=0.0,\n",
       "                      n_estimators=100, n_jobs=None, oob_score=False,\n",
       "                      random_state=None, verbose=0, warm_start=False)"
      ]
     },
     "execution_count": 12,
     "metadata": {},
     "output_type": "execute_result"
    }
   ],
   "source": [
    "rfr = RandomForestRegressor(n_estimators=100, max_depth=5)\n",
    "rfr_model = rfr.fit(X_train, y_train)\n",
    "rfr_model"
   ]
  },
  {
   "cell_type": "code",
   "execution_count": 13,
   "metadata": {
    "colab": {
     "base_uri": "https://localhost:8080/"
    },
    "id": "vb117DdHHY1_",
    "outputId": "e0c21365-3d96-4dae-9863-af1ed4e6e5a6"
   },
   "outputs": [
    {
     "name": "stdout",
     "output_type": "stream",
     "text": [
      "R2 Score:  0.8\n",
      "Error:  79.0\n"
     ]
    }
   ],
   "source": [
    "y_pred = rfr_model.predict(X_test)\n",
    "print(\"R2 Score: \",np.round(r2_score(y_test, y_pred),2))\n",
    "print(\"Error: \", np.round(mean_squared_error(y_test, y_pred),2))"
   ]
  },
  {
   "cell_type": "code",
   "execution_count": 14,
   "metadata": {
    "colab": {
     "base_uri": "https://localhost:8080/"
    },
    "id": "-QLs51ULMuv9",
    "outputId": "bad54b8e-0c3d-4f96-f46b-b038f88b2bdc"
   },
   "outputs": [
    {
     "data": {
      "text/plain": [
       "['models/rfr_model_noisy.joblib']"
      ]
     },
     "execution_count": 14,
     "metadata": {},
     "output_type": "execute_result"
    }
   ],
   "source": [
    "rfr_model_file = \"models/rfr_model_noisy.joblib\"\n",
    "joblib.dump(rfr_model, rfr_model_file)"
   ]
  },
  {
   "cell_type": "code",
   "execution_count": 24,
   "metadata": {
    "colab": {
     "base_uri": "https://localhost:8080/"
    },
    "id": "vHwdpmSkNXN5",
    "outputId": "15609837-82e9-475f-e2a4-fe165a9967b8"
   },
   "outputs": [
    {
     "name": "stdout",
     "output_type": "stream",
     "text": [
      "R2 Score:  0.8\n",
      "Error:  76.94\n"
     ]
    }
   ],
   "source": [
    "rfr_model_load = joblib.load('models/rfr_model.sav')\n",
    "val_pred = rfr_model_load.predict(X_test)\n",
    "print(\"R2 Score: \",np.round(r2_score(y_test, val_pred),2))\n",
    "print(\"Error: \", np.round(mean_squared_error(y_test, val_pred),2))"
   ]
  },
  {
   "cell_type": "code",
   "execution_count": 15,
   "metadata": {
    "colab": {
     "base_uri": "https://localhost:8080/",
     "height": 237
    },
    "id": "7RZ7nmsCOht4",
    "outputId": "e8cd6c7f-c814-41a5-cb01-31959eadfd83"
   },
   "outputs": [
    {
     "data": {
      "text/html": [
       "<div>\n",
       "<style scoped>\n",
       "    .dataframe tbody tr th:only-of-type {\n",
       "        vertical-align: middle;\n",
       "    }\n",
       "\n",
       "    .dataframe tbody tr th {\n",
       "        vertical-align: top;\n",
       "    }\n",
       "\n",
       "    .dataframe thead th {\n",
       "        text-align: right;\n",
       "    }\n",
       "</style>\n",
       "<table border=\"1\" class=\"dataframe\">\n",
       "  <thead>\n",
       "    <tr style=\"text-align: right;\">\n",
       "      <th></th>\n",
       "      <th>importance</th>\n",
       "      <th>column</th>\n",
       "    </tr>\n",
       "  </thead>\n",
       "  <tbody>\n",
       "    <tr>\n",
       "      <th>0</th>\n",
       "      <td>0.000000</td>\n",
       "      <td>feature_c</td>\n",
       "    </tr>\n",
       "    <tr>\n",
       "      <th>1</th>\n",
       "      <td>0.630249</td>\n",
       "      <td>feature_ct</td>\n",
       "    </tr>\n",
       "    <tr>\n",
       "      <th>2</th>\n",
       "      <td>0.031115</td>\n",
       "      <td>feature_motorspeed</td>\n",
       "    </tr>\n",
       "    <tr>\n",
       "      <th>3</th>\n",
       "      <td>0.072236</td>\n",
       "      <td>ambient_temp</td>\n",
       "    </tr>\n",
       "    <tr>\n",
       "      <th>4</th>\n",
       "      <td>0.186691</td>\n",
       "      <td>car_speed</td>\n",
       "    </tr>\n",
       "    <tr>\n",
       "      <th>5</th>\n",
       "      <td>0.079709</td>\n",
       "      <td>soc</td>\n",
       "    </tr>\n",
       "  </tbody>\n",
       "</table>\n",
       "</div>"
      ],
      "text/plain": [
       "   importance              column\n",
       "0    0.000000           feature_c\n",
       "1    0.630249          feature_ct\n",
       "2    0.031115  feature_motorspeed\n",
       "3    0.072236        ambient_temp\n",
       "4    0.186691           car_speed\n",
       "5    0.079709                 soc"
      ]
     },
     "execution_count": 15,
     "metadata": {},
     "output_type": "execute_result"
    }
   ],
   "source": [
    "feature_importances = rfr_model.feature_importances_\n",
    "column_names = X.columns\n",
    "feature_names = {'importance':feature_importances, 'column':column_names}\n",
    "feature_names = pd.DataFrame(feature_names)\n",
    "feature_names"
   ]
  },
  {
   "cell_type": "markdown",
   "metadata": {
    "id": "Md2wdip262Eg"
   },
   "source": [
    "GRADIENT BOOSTING REGRESSOR"
   ]
  },
  {
   "cell_type": "code",
   "execution_count": 16,
   "metadata": {
    "colab": {
     "base_uri": "https://localhost:8080/",
     "height": 74
    },
    "id": "viDi4L8bPqpa",
    "outputId": "f44fc5bd-5e61-49a5-849d-bc540e48de19"
   },
   "outputs": [
    {
     "data": {
      "text/plain": [
       "GradientBoostingRegressor(alpha=0.9, ccp_alpha=0.0, criterion='friedman_mse',\n",
       "                          init=None, learning_rate=0.1, loss='ls', max_depth=5,\n",
       "                          max_features=None, max_leaf_nodes=None,\n",
       "                          min_impurity_decrease=0.0, min_impurity_split=None,\n",
       "                          min_samples_leaf=1, min_samples_split=2,\n",
       "                          min_weight_fraction_leaf=0.0, n_estimators=50,\n",
       "                          n_iter_no_change=None, presort='deprecated',\n",
       "                          random_state=None, subsample=1.0, tol=0.0001,\n",
       "                          validation_fraction=0.1, verbose=0, warm_start=False)"
      ]
     },
     "execution_count": 16,
     "metadata": {},
     "output_type": "execute_result"
    }
   ],
   "source": [
    "gbr = GradientBoostingRegressor(n_estimators = 50, max_depth = 5)\n",
    "gbr_model = gbr.fit(X_train, y_train)\n",
    "gbr_model"
   ]
  },
  {
   "cell_type": "code",
   "execution_count": 17,
   "metadata": {
    "colab": {
     "base_uri": "https://localhost:8080/"
    },
    "id": "Ist1g4zf7eTq",
    "outputId": "777be9e0-a421-49c2-9492-387c4a4c9fee"
   },
   "outputs": [
    {
     "name": "stdout",
     "output_type": "stream",
     "text": [
      "R2 Score:  0.92\n",
      "Error:  30.68\n"
     ]
    }
   ],
   "source": [
    "y_pred = gbr_model.predict(X_test)\n",
    "print(\"R2 Score: \",np.round(r2_score(y_test, y_pred),2))\n",
    "print(\"Error: \", np.round(mean_squared_error(y_test, y_pred),2))"
   ]
  },
  {
   "cell_type": "code",
   "execution_count": 18,
   "metadata": {
    "colab": {
     "base_uri": "https://localhost:8080/",
     "height": 237
    },
    "id": "cVQ-_SlD_Y2g",
    "outputId": "a75366cb-9ca2-4420-b27b-e10f0af13ca6"
   },
   "outputs": [
    {
     "data": {
      "text/html": [
       "<div>\n",
       "<style scoped>\n",
       "    .dataframe tbody tr th:only-of-type {\n",
       "        vertical-align: middle;\n",
       "    }\n",
       "\n",
       "    .dataframe tbody tr th {\n",
       "        vertical-align: top;\n",
       "    }\n",
       "\n",
       "    .dataframe thead th {\n",
       "        text-align: right;\n",
       "    }\n",
       "</style>\n",
       "<table border=\"1\" class=\"dataframe\">\n",
       "  <thead>\n",
       "    <tr style=\"text-align: right;\">\n",
       "      <th></th>\n",
       "      <th>importance</th>\n",
       "      <th>column</th>\n",
       "    </tr>\n",
       "  </thead>\n",
       "  <tbody>\n",
       "    <tr>\n",
       "      <th>0</th>\n",
       "      <td>0.002340</td>\n",
       "      <td>feature_c</td>\n",
       "    </tr>\n",
       "    <tr>\n",
       "      <th>1</th>\n",
       "      <td>0.561214</td>\n",
       "      <td>feature_ct</td>\n",
       "    </tr>\n",
       "    <tr>\n",
       "      <th>2</th>\n",
       "      <td>0.019601</td>\n",
       "      <td>feature_motorspeed</td>\n",
       "    </tr>\n",
       "    <tr>\n",
       "      <th>3</th>\n",
       "      <td>0.114748</td>\n",
       "      <td>ambient_temp</td>\n",
       "    </tr>\n",
       "    <tr>\n",
       "      <th>4</th>\n",
       "      <td>0.185637</td>\n",
       "      <td>car_speed</td>\n",
       "    </tr>\n",
       "    <tr>\n",
       "      <th>5</th>\n",
       "      <td>0.116460</td>\n",
       "      <td>soc</td>\n",
       "    </tr>\n",
       "  </tbody>\n",
       "</table>\n",
       "</div>"
      ],
      "text/plain": [
       "   importance              column\n",
       "0    0.002340           feature_c\n",
       "1    0.561214          feature_ct\n",
       "2    0.019601  feature_motorspeed\n",
       "3    0.114748        ambient_temp\n",
       "4    0.185637           car_speed\n",
       "5    0.116460                 soc"
      ]
     },
     "execution_count": 18,
     "metadata": {},
     "output_type": "execute_result"
    }
   ],
   "source": [
    "feature_importances = gbr_model.feature_importances_\n",
    "column_names = X.columns\n",
    "feature_names = {'importance':feature_importances, 'column':column_names}\n",
    "feature_names = pd.DataFrame(feature_names)\n",
    "feature_names"
   ]
  },
  {
   "cell_type": "code",
   "execution_count": 19,
   "metadata": {
    "colab": {
     "base_uri": "https://localhost:8080/"
    },
    "id": "St_OCwC2AuBl",
    "outputId": "2e68f6e1-fa29-4178-a2d6-dc1054bb99ae"
   },
   "outputs": [
    {
     "data": {
      "text/plain": [
       "['models/gbr_model_noisy.joblib']"
      ]
     },
     "execution_count": 19,
     "metadata": {},
     "output_type": "execute_result"
    }
   ],
   "source": [
    "gbr_model_file = \"models/gbr_model_noisy.joblib\"\n",
    "joblib.dump(gbr_model, gbr_model_file)"
   ]
  },
  {
   "cell_type": "code",
   "execution_count": 30,
   "metadata": {
    "colab": {
     "base_uri": "https://localhost:8080/",
     "height": 36
    },
    "id": "ZOVdtu-FBu5M",
    "outputId": "92078372-65c9-4630-e72c-0f4676024c89"
   },
   "outputs": [
    {
     "data": {
      "application/vnd.google.colaboratory.intrinsic+json": {
       "type": "string"
      },
      "text/plain": [
       "'1.2.0'"
      ]
     },
     "execution_count": 30,
     "metadata": {},
     "output_type": "execute_result"
    }
   ],
   "source": [
    "joblib.__version__"
   ]
  },
  {
   "cell_type": "code",
   "execution_count": null,
   "metadata": {
    "id": "ScBSO8fXy9Oc"
   },
   "outputs": [],
   "source": []
  }
 ],
 "metadata": {
  "colab": {
   "gpuType": "T4",
   "provenance": []
  },
  "gpuClass": "standard",
  "kernelspec": {
   "display_name": "Python 3",
   "language": "python",
   "name": "python3"
  },
  "language_info": {
   "codemirror_mode": {
    "name": "ipython",
    "version": 3
   },
   "file_extension": ".py",
   "mimetype": "text/x-python",
   "name": "python",
   "nbconvert_exporter": "python",
   "pygments_lexer": "ipython3",
   "version": "3.7.3"
  }
 },
 "nbformat": 4,
 "nbformat_minor": 1
}
