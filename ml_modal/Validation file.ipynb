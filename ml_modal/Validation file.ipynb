{
 "cells": [
  {
   "cell_type": "code",
   "execution_count": 143,
   "metadata": {},
   "outputs": [],
   "source": [
    "import pandas as pd\n",
    "import numpy as np\n",
    "from sklearn.preprocessing import StandardScaler\n",
    "from sklearn.ensemble import RandomForestRegressor, GradientBoostingRegressor\n",
    "import joblib\n",
    "import matplotlib.pyplot as plt\n",
    "import seaborn as sns\n",
    "from sklearn.metrics import r2_score, mean_squared_error\n",
    "import plotly.figure_factory as ff\n",
    "import sklearn"
   ]
  },
  {
   "cell_type": "code",
   "execution_count": 20,
   "metadata": {},
   "outputs": [
    {
     "name": "stdout",
     "output_type": "stream",
     "text": [
      "Collecting joblib==1.2.0\n",
      "  Using cached joblib-1.2.0-py3-none-any.whl (297 kB)\n",
      "Installing collected packages: joblib\n",
      "  Attempting uninstall: joblib\n",
      "    Found existing installation: joblib 0.15.1\n",
      "    Uninstalling joblib-0.15.1:\n",
      "      Successfully uninstalled joblib-0.15.1\n",
      "Successfully installed joblib-1.2.0\n"
     ]
    },
    {
     "name": "stderr",
     "output_type": "stream",
     "text": [
      "ERROR: pip's dependency resolver does not currently take into account all the packages that are installed. This behaviour is the source of the following dependency conflicts.\n",
      "prince 0.7.1 requires scikit-learn>=0.22.1, but you have scikit-learn 0.22 which is incompatible.\n",
      "WARNING: You are using pip version 20.3.1; however, version 23.1.2 is available.\n",
      "You should consider upgrading via the 'c:\\users\\yash\\anaconda3\\python.exe -m pip install --upgrade pip' command.\n"
     ]
    }
   ],
   "source": [
    "!pip install joblib==1.2.0"
   ]
  },
  {
   "cell_type": "code",
   "execution_count": 2,
   "metadata": {},
   "outputs": [
    {
     "data": {
      "text/html": [
       "<div>\n",
       "<style scoped>\n",
       "    .dataframe tbody tr th:only-of-type {\n",
       "        vertical-align: middle;\n",
       "    }\n",
       "\n",
       "    .dataframe tbody tr th {\n",
       "        vertical-align: top;\n",
       "    }\n",
       "\n",
       "    .dataframe thead th {\n",
       "        text-align: right;\n",
       "    }\n",
       "</style>\n",
       "<table border=\"1\" class=\"dataframe\">\n",
       "  <thead>\n",
       "    <tr style=\"text-align: right;\">\n",
       "      <th></th>\n",
       "      <th>rtctime</th>\n",
       "      <th>lat</th>\n",
       "      <th>lon</th>\n",
       "      <th>target_temperature</th>\n",
       "      <th>feature_c</th>\n",
       "      <th>feature_ct</th>\n",
       "      <th>feature_motorspeed</th>\n",
       "      <th>ambient_temp</th>\n",
       "      <th>car_speed</th>\n",
       "      <th>soc</th>\n",
       "    </tr>\n",
       "  </thead>\n",
       "  <tbody>\n",
       "    <tr>\n",
       "      <th>0</th>\n",
       "      <td>1672911588170</td>\n",
       "      <td>68.860123</td>\n",
       "      <td>18.346718</td>\n",
       "      <td>-4.281718</td>\n",
       "      <td>20.947325</td>\n",
       "      <td>-1.0</td>\n",
       "      <td>68.902439</td>\n",
       "      <td>-3.9</td>\n",
       "      <td>1.050000</td>\n",
       "      <td>84.199997</td>\n",
       "    </tr>\n",
       "    <tr>\n",
       "      <th>1</th>\n",
       "      <td>1672911588180</td>\n",
       "      <td>68.860123</td>\n",
       "      <td>18.346718</td>\n",
       "      <td>-4.281718</td>\n",
       "      <td>20.947325</td>\n",
       "      <td>-1.0</td>\n",
       "      <td>68.902439</td>\n",
       "      <td>-3.9</td>\n",
       "      <td>1.050000</td>\n",
       "      <td>84.199997</td>\n",
       "    </tr>\n",
       "    <tr>\n",
       "      <th>2</th>\n",
       "      <td>1672911588190</td>\n",
       "      <td>68.860123</td>\n",
       "      <td>18.346718</td>\n",
       "      <td>-4.281718</td>\n",
       "      <td>20.947325</td>\n",
       "      <td>-1.0</td>\n",
       "      <td>68.902439</td>\n",
       "      <td>-3.9</td>\n",
       "      <td>1.050000</td>\n",
       "      <td>84.199997</td>\n",
       "    </tr>\n",
       "    <tr>\n",
       "      <th>3</th>\n",
       "      <td>1672911588200</td>\n",
       "      <td>68.860123</td>\n",
       "      <td>18.346718</td>\n",
       "      <td>-4.281718</td>\n",
       "      <td>21.361129</td>\n",
       "      <td>-1.0</td>\n",
       "      <td>70.731707</td>\n",
       "      <td>-3.9</td>\n",
       "      <td>1.050000</td>\n",
       "      <td>84.199997</td>\n",
       "    </tr>\n",
       "    <tr>\n",
       "      <th>4</th>\n",
       "      <td>1672911588210</td>\n",
       "      <td>68.860123</td>\n",
       "      <td>18.346718</td>\n",
       "      <td>-4.281718</td>\n",
       "      <td>21.361129</td>\n",
       "      <td>-1.0</td>\n",
       "      <td>70.731707</td>\n",
       "      <td>-3.9</td>\n",
       "      <td>1.110000</td>\n",
       "      <td>84.199997</td>\n",
       "    </tr>\n",
       "    <tr>\n",
       "      <th>...</th>\n",
       "      <td>...</td>\n",
       "      <td>...</td>\n",
       "      <td>...</td>\n",
       "      <td>...</td>\n",
       "      <td>...</td>\n",
       "      <td>...</td>\n",
       "      <td>...</td>\n",
       "      <td>...</td>\n",
       "      <td>...</td>\n",
       "      <td>...</td>\n",
       "    </tr>\n",
       "    <tr>\n",
       "      <th>253665</th>\n",
       "      <td>1673371992330</td>\n",
       "      <td>64.251831</td>\n",
       "      <td>20.245625</td>\n",
       "      <td>52.802200</td>\n",
       "      <td>7.737465</td>\n",
       "      <td>6.0</td>\n",
       "      <td>3387.195122</td>\n",
       "      <td>-3.7</td>\n",
       "      <td>65.410004</td>\n",
       "      <td>51.000000</td>\n",
       "    </tr>\n",
       "    <tr>\n",
       "      <th>253666</th>\n",
       "      <td>1673371992340</td>\n",
       "      <td>64.251831</td>\n",
       "      <td>20.245625</td>\n",
       "      <td>52.802200</td>\n",
       "      <td>7.737465</td>\n",
       "      <td>6.0</td>\n",
       "      <td>3387.195122</td>\n",
       "      <td>-3.8</td>\n",
       "      <td>65.410004</td>\n",
       "      <td>51.000000</td>\n",
       "    </tr>\n",
       "    <tr>\n",
       "      <th>253667</th>\n",
       "      <td>1673371992350</td>\n",
       "      <td>64.251831</td>\n",
       "      <td>20.245625</td>\n",
       "      <td>52.802200</td>\n",
       "      <td>7.737465</td>\n",
       "      <td>6.0</td>\n",
       "      <td>3387.195122</td>\n",
       "      <td>-3.8</td>\n",
       "      <td>65.410004</td>\n",
       "      <td>51.000000</td>\n",
       "    </tr>\n",
       "    <tr>\n",
       "      <th>253668</th>\n",
       "      <td>1673371992360</td>\n",
       "      <td>64.251831</td>\n",
       "      <td>20.245625</td>\n",
       "      <td>52.802200</td>\n",
       "      <td>7.737465</td>\n",
       "      <td>6.0</td>\n",
       "      <td>3387.195122</td>\n",
       "      <td>-3.7</td>\n",
       "      <td>65.410004</td>\n",
       "      <td>51.000000</td>\n",
       "    </tr>\n",
       "    <tr>\n",
       "      <th>253669</th>\n",
       "      <td>1673371992370</td>\n",
       "      <td>64.251831</td>\n",
       "      <td>20.245625</td>\n",
       "      <td>52.802200</td>\n",
       "      <td>7.737465</td>\n",
       "      <td>6.0</td>\n",
       "      <td>3387.195122</td>\n",
       "      <td>-3.7</td>\n",
       "      <td>65.410004</td>\n",
       "      <td>51.000000</td>\n",
       "    </tr>\n",
       "  </tbody>\n",
       "</table>\n",
       "<p>8159719 rows × 10 columns</p>\n",
       "</div>"
      ],
      "text/plain": [
       "              rtctime        lat        lon  target_temperature  feature_c  \\\n",
       "0       1672911588170  68.860123  18.346718           -4.281718  20.947325   \n",
       "1       1672911588180  68.860123  18.346718           -4.281718  20.947325   \n",
       "2       1672911588190  68.860123  18.346718           -4.281718  20.947325   \n",
       "3       1672911588200  68.860123  18.346718           -4.281718  21.361129   \n",
       "4       1672911588210  68.860123  18.346718           -4.281718  21.361129   \n",
       "...               ...        ...        ...                 ...        ...   \n",
       "253665  1673371992330  64.251831  20.245625           52.802200   7.737465   \n",
       "253666  1673371992340  64.251831  20.245625           52.802200   7.737465   \n",
       "253667  1673371992350  64.251831  20.245625           52.802200   7.737465   \n",
       "253668  1673371992360  64.251831  20.245625           52.802200   7.737465   \n",
       "253669  1673371992370  64.251831  20.245625           52.802200   7.737465   \n",
       "\n",
       "        feature_ct  feature_motorspeed  ambient_temp  car_speed        soc  \n",
       "0             -1.0           68.902439          -3.9   1.050000  84.199997  \n",
       "1             -1.0           68.902439          -3.9   1.050000  84.199997  \n",
       "2             -1.0           68.902439          -3.9   1.050000  84.199997  \n",
       "3             -1.0           70.731707          -3.9   1.050000  84.199997  \n",
       "4             -1.0           70.731707          -3.9   1.110000  84.199997  \n",
       "...            ...                 ...           ...        ...        ...  \n",
       "253665         6.0         3387.195122          -3.7  65.410004  51.000000  \n",
       "253666         6.0         3387.195122          -3.8  65.410004  51.000000  \n",
       "253667         6.0         3387.195122          -3.8  65.410004  51.000000  \n",
       "253668         6.0         3387.195122          -3.7  65.410004  51.000000  \n",
       "253669         6.0         3387.195122          -3.7  65.410004  51.000000  \n",
       "\n",
       "[8159719 rows x 10 columns]"
      ]
     },
     "execution_count": 2,
     "metadata": {},
     "output_type": "execute_result"
    }
   ],
   "source": [
    "data = pd.read_parquet('data/full_data.parquet')\n",
    "data"
   ]
  },
  {
   "cell_type": "code",
   "execution_count": 3,
   "metadata": {},
   "outputs": [
    {
     "name": "stderr",
     "output_type": "stream",
     "text": [
      "C:\\Users\\Yash\\Anaconda3\\lib\\site-packages\\ipykernel_launcher.py:2: FutureWarning: In a future version of pandas all arguments of DataFrame.drop except for the argument 'labels' will be keyword-only\n",
      "  \n"
     ]
    },
    {
     "name": "stdout",
     "output_type": "stream",
     "text": [
      "Before removing duplicates data shape:  (8159719, 10)\n",
      "After removing duplicates data shape:  (8156409, 10)\n"
     ]
    },
    {
     "name": "stderr",
     "output_type": "stream",
     "text": [
      "C:\\Users\\Yash\\Anaconda3\\lib\\site-packages\\ipykernel_launcher.py:8: FutureWarning: In a future version of pandas all arguments of DataFrame.drop except for the argument 'labels' will be keyword-only\n",
      "  \n"
     ]
    },
    {
     "data": {
      "text/html": [
       "<div>\n",
       "<style scoped>\n",
       "    .dataframe tbody tr th:only-of-type {\n",
       "        vertical-align: middle;\n",
       "    }\n",
       "\n",
       "    .dataframe tbody tr th {\n",
       "        vertical-align: top;\n",
       "    }\n",
       "\n",
       "    .dataframe thead th {\n",
       "        text-align: right;\n",
       "    }\n",
       "</style>\n",
       "<table border=\"1\" class=\"dataframe\">\n",
       "  <thead>\n",
       "    <tr style=\"text-align: right;\">\n",
       "      <th></th>\n",
       "      <th>rtctime</th>\n",
       "      <th>lat</th>\n",
       "      <th>lon</th>\n",
       "      <th>target_temperature</th>\n",
       "      <th>feature_c</th>\n",
       "      <th>feature_ct</th>\n",
       "      <th>feature_motorspeed</th>\n",
       "      <th>ambient_temp</th>\n",
       "      <th>car_speed</th>\n",
       "      <th>soc</th>\n",
       "    </tr>\n",
       "  </thead>\n",
       "  <tbody>\n",
       "    <tr>\n",
       "      <th>0</th>\n",
       "      <td>1672911588170</td>\n",
       "      <td>68.860123</td>\n",
       "      <td>18.346718</td>\n",
       "      <td>-4.281718</td>\n",
       "      <td>20.947325</td>\n",
       "      <td>-1.0</td>\n",
       "      <td>68.902439</td>\n",
       "      <td>-3.9</td>\n",
       "      <td>1.05</td>\n",
       "      <td>84.199997</td>\n",
       "    </tr>\n",
       "    <tr>\n",
       "      <th>1</th>\n",
       "      <td>1672911588180</td>\n",
       "      <td>68.860123</td>\n",
       "      <td>18.346718</td>\n",
       "      <td>-4.281718</td>\n",
       "      <td>20.947325</td>\n",
       "      <td>-1.0</td>\n",
       "      <td>68.902439</td>\n",
       "      <td>-3.9</td>\n",
       "      <td>1.05</td>\n",
       "      <td>84.199997</td>\n",
       "    </tr>\n",
       "    <tr>\n",
       "      <th>2</th>\n",
       "      <td>1672911588190</td>\n",
       "      <td>68.860123</td>\n",
       "      <td>18.346718</td>\n",
       "      <td>-4.281718</td>\n",
       "      <td>20.947325</td>\n",
       "      <td>-1.0</td>\n",
       "      <td>68.902439</td>\n",
       "      <td>-3.9</td>\n",
       "      <td>1.05</td>\n",
       "      <td>84.199997</td>\n",
       "    </tr>\n",
       "    <tr>\n",
       "      <th>3</th>\n",
       "      <td>1672911588200</td>\n",
       "      <td>68.860123</td>\n",
       "      <td>18.346718</td>\n",
       "      <td>-4.281718</td>\n",
       "      <td>21.361129</td>\n",
       "      <td>-1.0</td>\n",
       "      <td>70.731707</td>\n",
       "      <td>-3.9</td>\n",
       "      <td>1.05</td>\n",
       "      <td>84.199997</td>\n",
       "    </tr>\n",
       "    <tr>\n",
       "      <th>4</th>\n",
       "      <td>1672911588210</td>\n",
       "      <td>68.860123</td>\n",
       "      <td>18.346718</td>\n",
       "      <td>-4.281718</td>\n",
       "      <td>21.361129</td>\n",
       "      <td>-1.0</td>\n",
       "      <td>70.731707</td>\n",
       "      <td>-3.9</td>\n",
       "      <td>1.11</td>\n",
       "      <td>84.199997</td>\n",
       "    </tr>\n",
       "    <tr>\n",
       "      <th>5</th>\n",
       "      <td>1672911588220</td>\n",
       "      <td>68.860123</td>\n",
       "      <td>18.346718</td>\n",
       "      <td>-4.281718</td>\n",
       "      <td>21.361129</td>\n",
       "      <td>-1.0</td>\n",
       "      <td>70.731707</td>\n",
       "      <td>-3.9</td>\n",
       "      <td>1.11</td>\n",
       "      <td>84.199997</td>\n",
       "    </tr>\n",
       "    <tr>\n",
       "      <th>6</th>\n",
       "      <td>1672911588230</td>\n",
       "      <td>68.860123</td>\n",
       "      <td>18.346718</td>\n",
       "      <td>-4.281718</td>\n",
       "      <td>21.361129</td>\n",
       "      <td>-1.0</td>\n",
       "      <td>70.731707</td>\n",
       "      <td>-3.9</td>\n",
       "      <td>1.11</td>\n",
       "      <td>84.199997</td>\n",
       "    </tr>\n",
       "    <tr>\n",
       "      <th>7</th>\n",
       "      <td>1672911588240</td>\n",
       "      <td>68.860123</td>\n",
       "      <td>18.346718</td>\n",
       "      <td>-4.281718</td>\n",
       "      <td>21.361129</td>\n",
       "      <td>-1.0</td>\n",
       "      <td>70.731707</td>\n",
       "      <td>-3.9</td>\n",
       "      <td>1.11</td>\n",
       "      <td>84.199997</td>\n",
       "    </tr>\n",
       "    <tr>\n",
       "      <th>8</th>\n",
       "      <td>1672911588250</td>\n",
       "      <td>68.860123</td>\n",
       "      <td>18.346718</td>\n",
       "      <td>-4.281718</td>\n",
       "      <td>20.629015</td>\n",
       "      <td>-1.0</td>\n",
       "      <td>72.560976</td>\n",
       "      <td>-3.9</td>\n",
       "      <td>1.17</td>\n",
       "      <td>84.199997</td>\n",
       "    </tr>\n",
       "    <tr>\n",
       "      <th>9</th>\n",
       "      <td>1672911588260</td>\n",
       "      <td>68.860123</td>\n",
       "      <td>18.346718</td>\n",
       "      <td>-4.281718</td>\n",
       "      <td>20.629015</td>\n",
       "      <td>-1.0</td>\n",
       "      <td>72.560976</td>\n",
       "      <td>-3.9</td>\n",
       "      <td>1.17</td>\n",
       "      <td>84.199997</td>\n",
       "    </tr>\n",
       "  </tbody>\n",
       "</table>\n",
       "</div>"
      ],
      "text/plain": [
       "         rtctime        lat        lon  target_temperature  feature_c  \\\n",
       "0  1672911588170  68.860123  18.346718           -4.281718  20.947325   \n",
       "1  1672911588180  68.860123  18.346718           -4.281718  20.947325   \n",
       "2  1672911588190  68.860123  18.346718           -4.281718  20.947325   \n",
       "3  1672911588200  68.860123  18.346718           -4.281718  21.361129   \n",
       "4  1672911588210  68.860123  18.346718           -4.281718  21.361129   \n",
       "5  1672911588220  68.860123  18.346718           -4.281718  21.361129   \n",
       "6  1672911588230  68.860123  18.346718           -4.281718  21.361129   \n",
       "7  1672911588240  68.860123  18.346718           -4.281718  21.361129   \n",
       "8  1672911588250  68.860123  18.346718           -4.281718  20.629015   \n",
       "9  1672911588260  68.860123  18.346718           -4.281718  20.629015   \n",
       "\n",
       "   feature_ct  feature_motorspeed  ambient_temp  car_speed        soc  \n",
       "0        -1.0           68.902439          -3.9       1.05  84.199997  \n",
       "1        -1.0           68.902439          -3.9       1.05  84.199997  \n",
       "2        -1.0           68.902439          -3.9       1.05  84.199997  \n",
       "3        -1.0           70.731707          -3.9       1.05  84.199997  \n",
       "4        -1.0           70.731707          -3.9       1.11  84.199997  \n",
       "5        -1.0           70.731707          -3.9       1.11  84.199997  \n",
       "6        -1.0           70.731707          -3.9       1.11  84.199997  \n",
       "7        -1.0           70.731707          -3.9       1.11  84.199997  \n",
       "8        -1.0           72.560976          -3.9       1.17  84.199997  \n",
       "9        -1.0           72.560976          -3.9       1.17  84.199997  "
      ]
     },
     "execution_count": 3,
     "metadata": {},
     "output_type": "execute_result"
    }
   ],
   "source": [
    "data = data.reset_index()\n",
    "data.drop(['index'],1,inplace=True)\n",
    "print('Before removing duplicates data shape: ',data.shape)\n",
    "data = data.drop_duplicates(subset = ['rtctime'], keep = 'first')\n",
    "print('After removing duplicates data shape: ',data.shape)\n",
    "data = data.sort_values(by = 'rtctime', ascending = True)\n",
    "data = data.reset_index()\n",
    "data.drop(['index'],1,inplace=True)\n",
    "data.head(10)"
   ]
  },
  {
   "cell_type": "code",
   "execution_count": 4,
   "metadata": {},
   "outputs": [
    {
     "name": "stdout",
     "output_type": "stream",
     "text": [
      "Independent features shape:  (8156409, 6) Target variable shape:  (8156409,)\n"
     ]
    },
    {
     "name": "stderr",
     "output_type": "stream",
     "text": [
      "C:\\Users\\Yash\\Anaconda3\\lib\\site-packages\\ipykernel_launcher.py:1: FutureWarning: In a future version of pandas all arguments of DataFrame.drop except for the argument 'labels' will be keyword-only\n",
      "  \"\"\"Entry point for launching an IPython kernel.\n"
     ]
    }
   ],
   "source": [
    "X = data.drop(['rtctime','lat','lon','target_temperature'],1)\n",
    "y = data['target_temperature']\n",
    "print('Independent features shape: ', X.shape, 'Target variable shape: ', y.shape)"
   ]
  },
  {
   "cell_type": "code",
   "execution_count": 5,
   "metadata": {},
   "outputs": [],
   "source": [
    "r2_scores = []\n",
    "error = []"
   ]
  },
  {
   "cell_type": "code",
   "execution_count": 6,
   "metadata": {},
   "outputs": [
    {
     "name": "stdout",
     "output_type": "stream",
     "text": [
      "Random Forest R2 Score:  0.8\n",
      "Random Forest Error:  76.64\n"
     ]
    }
   ],
   "source": [
    "rfr_model_load = joblib.load('models/rfr_model.joblib')\n",
    "# if X_val.shape[1] != rfr_model_load.n_features_:\n",
    "#     raise ValueError(\"The number of features in X_val doesn't match the model's expectations.\")\n",
    "val_pred = rfr_model_load.predict(X)\n",
    "print(\"Random Forest R2 Score: \",np.round(r2_score(y, val_pred),2))\n",
    "print(\"Random Forest Error: \", np.round(mean_squared_error(y, val_pred),2))\n",
    "r2_scores.append(np.round(r2_score(y, val_pred),2))\n",
    "error.append(np.round(mean_squared_error(y, val_pred),2))"
   ]
  },
  {
   "cell_type": "code",
   "execution_count": 7,
   "metadata": {},
   "outputs": [
    {
     "name": "stdout",
     "output_type": "stream",
     "text": [
      "Gradient Boosting R2 Score:  0.92\n",
      "Gradient Bossting Error:  29.34\n"
     ]
    }
   ],
   "source": [
    "gbr_model_load = joblib.load('models/gbr_model.joblib')\n",
    "# if X_val.shape[1] != rfr_model_load.n_features_:\n",
    "#     raise ValueError(\"The number of features in X_val doesn't match the model's expectations.\")\n",
    "val_pred = gbr_model_load.predict(X)\n",
    "print(\"Gradient Boosting R2 Score: \",np.round(r2_score(y, val_pred),2))\n",
    "print(\"Gradient Bossting Error: \", np.round(mean_squared_error(y, val_pred),2))\n",
    "r2_scores.append(np.round(r2_score(y, val_pred),2))\n",
    "error.append(np.round(mean_squared_error(y, val_pred),2))"
   ]
  },
  {
   "cell_type": "code",
   "execution_count": 8,
   "metadata": {},
   "outputs": [
    {
     "name": "stdout",
     "output_type": "stream",
     "text": [
      "[0.8, 0.92] [76.64, 29.34]\n"
     ]
    }
   ],
   "source": [
    "print(r2_scores, error)"
   ]
  },
  {
   "cell_type": "code",
   "execution_count": 9,
   "metadata": {},
   "outputs": [
    {
     "data": {
      "text/html": [
       "<div>\n",
       "<style scoped>\n",
       "    .dataframe tbody tr th:only-of-type {\n",
       "        vertical-align: middle;\n",
       "    }\n",
       "\n",
       "    .dataframe tbody tr th {\n",
       "        vertical-align: top;\n",
       "    }\n",
       "\n",
       "    .dataframe thead th {\n",
       "        text-align: right;\n",
       "    }\n",
       "</style>\n",
       "<table border=\"1\" class=\"dataframe\">\n",
       "  <thead>\n",
       "    <tr style=\"text-align: right;\">\n",
       "      <th></th>\n",
       "      <th>feature_c</th>\n",
       "      <th>feature_ct</th>\n",
       "      <th>feature_motorspeed</th>\n",
       "      <th>ambient_temp</th>\n",
       "      <th>car_speed</th>\n",
       "      <th>soc</th>\n",
       "    </tr>\n",
       "  </thead>\n",
       "  <tbody>\n",
       "    <tr>\n",
       "      <th>7</th>\n",
       "      <td>21.242899</td>\n",
       "      <td>-1.0</td>\n",
       "      <td>70.209059</td>\n",
       "      <td>-3.9</td>\n",
       "      <td>1.084286</td>\n",
       "      <td>84.199997</td>\n",
       "    </tr>\n",
       "    <tr>\n",
       "      <th>8</th>\n",
       "      <td>21.197426</td>\n",
       "      <td>-1.0</td>\n",
       "      <td>70.731707</td>\n",
       "      <td>-3.9</td>\n",
       "      <td>1.101429</td>\n",
       "      <td>84.199997</td>\n",
       "    </tr>\n",
       "    <tr>\n",
       "      <th>9</th>\n",
       "      <td>21.151953</td>\n",
       "      <td>-1.0</td>\n",
       "      <td>71.254355</td>\n",
       "      <td>-3.9</td>\n",
       "      <td>1.118571</td>\n",
       "      <td>84.199997</td>\n",
       "    </tr>\n",
       "    <tr>\n",
       "      <th>10</th>\n",
       "      <td>21.047366</td>\n",
       "      <td>-1.0</td>\n",
       "      <td>71.515679</td>\n",
       "      <td>-3.9</td>\n",
       "      <td>1.135714</td>\n",
       "      <td>84.199997</td>\n",
       "    </tr>\n",
       "    <tr>\n",
       "      <th>11</th>\n",
       "      <td>20.942778</td>\n",
       "      <td>-1.0</td>\n",
       "      <td>71.777003</td>\n",
       "      <td>-3.9</td>\n",
       "      <td>1.144286</td>\n",
       "      <td>84.199997</td>\n",
       "    </tr>\n",
       "    <tr>\n",
       "      <th>12</th>\n",
       "      <td>20.838190</td>\n",
       "      <td>-1.0</td>\n",
       "      <td>72.038328</td>\n",
       "      <td>-3.9</td>\n",
       "      <td>1.160000</td>\n",
       "      <td>84.199997</td>\n",
       "    </tr>\n",
       "    <tr>\n",
       "      <th>13</th>\n",
       "      <td>20.783623</td>\n",
       "      <td>-1.0</td>\n",
       "      <td>72.560976</td>\n",
       "      <td>-3.9</td>\n",
       "      <td>1.175714</td>\n",
       "      <td>84.199997</td>\n",
       "    </tr>\n",
       "    <tr>\n",
       "      <th>14</th>\n",
       "      <td>20.729055</td>\n",
       "      <td>-1.0</td>\n",
       "      <td>73.083624</td>\n",
       "      <td>-3.9</td>\n",
       "      <td>1.191429</td>\n",
       "      <td>84.199997</td>\n",
       "    </tr>\n",
       "    <tr>\n",
       "      <th>15</th>\n",
       "      <td>20.779076</td>\n",
       "      <td>-1.0</td>\n",
       "      <td>73.344948</td>\n",
       "      <td>-3.9</td>\n",
       "      <td>1.198571</td>\n",
       "      <td>84.199997</td>\n",
       "    </tr>\n",
       "    <tr>\n",
       "      <th>16</th>\n",
       "      <td>20.829096</td>\n",
       "      <td>-1.0</td>\n",
       "      <td>73.606272</td>\n",
       "      <td>-3.9</td>\n",
       "      <td>1.212857</td>\n",
       "      <td>84.199997</td>\n",
       "    </tr>\n",
       "  </tbody>\n",
       "</table>\n",
       "</div>"
      ],
      "text/plain": [
       "    feature_c  feature_ct  feature_motorspeed  ambient_temp  car_speed  \\\n",
       "7   21.242899        -1.0           70.209059          -3.9   1.084286   \n",
       "8   21.197426        -1.0           70.731707          -3.9   1.101429   \n",
       "9   21.151953        -1.0           71.254355          -3.9   1.118571   \n",
       "10  21.047366        -1.0           71.515679          -3.9   1.135714   \n",
       "11  20.942778        -1.0           71.777003          -3.9   1.144286   \n",
       "12  20.838190        -1.0           72.038328          -3.9   1.160000   \n",
       "13  20.783623        -1.0           72.560976          -3.9   1.175714   \n",
       "14  20.729055        -1.0           73.083624          -3.9   1.191429   \n",
       "15  20.779076        -1.0           73.344948          -3.9   1.198571   \n",
       "16  20.829096        -1.0           73.606272          -3.9   1.212857   \n",
       "\n",
       "          soc  \n",
       "7   84.199997  \n",
       "8   84.199997  \n",
       "9   84.199997  \n",
       "10  84.199997  \n",
       "11  84.199997  \n",
       "12  84.199997  \n",
       "13  84.199997  \n",
       "14  84.199997  \n",
       "15  84.199997  \n",
       "16  84.199997  "
      ]
     },
     "execution_count": 9,
     "metadata": {},
     "output_type": "execute_result"
    }
   ],
   "source": [
    "X_diff = X.rolling(window=7, min_periods=7).mean()\n",
    "X_diff = X_diff[7:]\n",
    "y_diff = y[7:]\n",
    "X_diff.head(10)"
   ]
  },
  {
   "cell_type": "code",
   "execution_count": 10,
   "metadata": {},
   "outputs": [
    {
     "name": "stdout",
     "output_type": "stream",
     "text": [
      "Random Forest Difference Data R2 Score:  0.8\n",
      "Random Forest Difference Data Error:  76.73\n"
     ]
    }
   ],
   "source": [
    "rfr_diff_load = joblib.load('models/rfr_model_diff.joblib')\n",
    "# if X_val.shape[1] != rfr_model_load.n_features_:\n",
    "#     raise ValueError(\"The number of features in X_val doesn't match the model's expectations.\")\n",
    "val_pred = rfr_diff_load.predict(X_diff)\n",
    "print(\"Random Forest Difference Data R2 Score: \",np.round(r2_score(y_diff, val_pred),2))\n",
    "print(\"Random Forest Difference Data Error: \", np.round(mean_squared_error(y_diff, val_pred),2))\n",
    "r2_scores.append(np.round(r2_score(y_diff, val_pred),2))\n",
    "error.append(np.round(mean_squared_error(y_diff, val_pred),2))"
   ]
  },
  {
   "cell_type": "code",
   "execution_count": 11,
   "metadata": {},
   "outputs": [
    {
     "name": "stdout",
     "output_type": "stream",
     "text": [
      "Random Forest Difference Data R2 Score:  0.93\n",
      "Random Forest Difference Data Error:  28.46\n"
     ]
    }
   ],
   "source": [
    "gbr_diff_load = joblib.load('models/gbr_model_diff.joblib')\n",
    "# if X_val.shape[1] != rfr_model_load.n_features_:\n",
    "#     raise ValueError(\"The number of features in X_val doesn't match the model's expectations.\")\n",
    "val_pred = gbr_diff_load.predict(X_diff)\n",
    "print(\"Random Forest Difference Data R2 Score: \",np.round(r2_score(y_diff, val_pred),2))\n",
    "print(\"Random Forest Difference Data Error: \", np.round(mean_squared_error(y_diff, val_pred),2))\n",
    "r2_scores.append(np.round(r2_score(y_diff, val_pred),2))\n",
    "error.append(np.round(mean_squared_error(y_diff, val_pred),2))"
   ]
  },
  {
   "cell_type": "code",
   "execution_count": 12,
   "metadata": {},
   "outputs": [
    {
     "name": "stdout",
     "output_type": "stream",
     "text": [
      "[0.8, 0.92, 0.8, 0.93] [76.64, 29.34, 76.73, 28.46]\n"
     ]
    }
   ],
   "source": [
    "print(r2_scores, error)"
   ]
  },
  {
   "cell_type": "code",
   "execution_count": 13,
   "metadata": {},
   "outputs": [
    {
     "name": "stdout",
     "output_type": "stream",
     "text": [
      "feature_c              18.560001\n",
      "feature_ct             -1.000000\n",
      "feature_motorspeed    158.536585\n",
      "ambient_temp           -3.800000\n",
      "car_speed               3.040000\n",
      "soc                    84.199997\n",
      "Name: 200, dtype: float64\n"
     ]
    },
    {
     "data": {
      "text/plain": [
       "feature_c              13.920000\n",
       "feature_ct             -0.750000\n",
       "feature_motorspeed    118.902439\n",
       "ambient_temp           -2.850000\n",
       "car_speed               2.280000\n",
       "soc                    63.149998\n",
       "Name: 200, dtype: float64"
      ]
     },
     "execution_count": 13,
     "metadata": {},
     "output_type": "execute_result"
    }
   ],
   "source": [
    "print(X.iloc[200])\n",
    "for i in range(0,len(X),100):\n",
    "    X.iloc[i] = X.iloc[i] * 0.75\n",
    "    \n",
    "X.iloc[200]"
   ]
  },
  {
   "cell_type": "code",
   "execution_count": 14,
   "metadata": {},
   "outputs": [
    {
     "name": "stdout",
     "output_type": "stream",
     "text": [
      "Random Forest Difference Data R2 Score:  0.8\n",
      "Random Forest Difference Data Error:  78.97\n"
     ]
    }
   ],
   "source": [
    "rfr_noisy_load = joblib.load('models/rfr_model_noisy.joblib')\n",
    "# if X_val.shape[1] != rfr_model_load.n_features_:\n",
    "#     raise ValueError(\"The number of features in X_val doesn't match the model's expectations.\")\n",
    "val_pred = rfr_noisy_load.predict(X)\n",
    "print(\"Random Forest Difference Data R2 Score: \",np.round(r2_score(y, val_pred),2))\n",
    "print(\"Random Forest Difference Data Error: \", np.round(mean_squared_error(y, val_pred),2))\n",
    "r2_scores.append(np.round(r2_score(y, val_pred),2))\n",
    "error.append(np.round(mean_squared_error(y, val_pred),2))"
   ]
  },
  {
   "cell_type": "code",
   "execution_count": 15,
   "metadata": {},
   "outputs": [
    {
     "name": "stdout",
     "output_type": "stream",
     "text": [
      "Random Forest Difference Data R2 Score:  0.92\n",
      "Random Forest Difference Data Error:  30.66\n"
     ]
    }
   ],
   "source": [
    "gbr_noisy_load = joblib.load('models/gbr_model_noisy.joblib')\n",
    "# if X_val.shape[1] != rfr_model_load.n_features_:\n",
    "#     raise ValueError(\"The number of features in X_val doesn't match the model's expectations.\")\n",
    "val_pred = gbr_noisy_load.predict(X)\n",
    "print(\"Random Forest Difference Data R2 Score: \",np.round(r2_score(y, val_pred),2))\n",
    "print(\"Random Forest Difference Data Error: \", np.round(mean_squared_error(y, val_pred),2))\n",
    "r2_scores.append(np.round(r2_score(y, val_pred),2))\n",
    "error.append(np.round(mean_squared_error(y, val_pred),2))"
   ]
  },
  {
   "cell_type": "code",
   "execution_count": 16,
   "metadata": {},
   "outputs": [
    {
     "name": "stdout",
     "output_type": "stream",
     "text": [
      "[0.8, 0.92, 0.8, 0.93, 0.8, 0.92] [76.64, 29.34, 76.73, 28.46, 78.97, 30.66]\n"
     ]
    }
   ],
   "source": [
    "print(r2_scores, error)"
   ]
  },
  {
   "cell_type": "code",
   "execution_count": 17,
   "metadata": {},
   "outputs": [],
   "source": [
    "models = ['Random Forest Regressor', 'Gradient Boosting Regressor', 'Random Forest Diff', 'Gradient Boosting Diff', 'Random Forest Noisy', 'Gradient Boosting Noisy']"
   ]
  },
  {
   "cell_type": "code",
   "execution_count": 18,
   "metadata": {},
   "outputs": [
    {
     "data": {
      "text/plain": [
       "[0.8, 0.92, 0.8, 0.93, 0.8, 0.92]"
      ]
     },
     "execution_count": 18,
     "metadata": {},
     "output_type": "execute_result"
    }
   ],
   "source": [
    "r2_scores"
   ]
  },
  {
   "cell_type": "code",
   "execution_count": 19,
   "metadata": {},
   "outputs": [
    {
     "data": {
      "text/plain": [
       "[76.64, 29.34, 76.73, 28.46, 78.97, 30.66]"
      ]
     },
     "execution_count": 19,
     "metadata": {},
     "output_type": "execute_result"
    }
   ],
   "source": [
    "error"
   ]
  },
  {
   "cell_type": "code",
   "execution_count": 39,
   "metadata": {},
   "outputs": [
    {
     "data": {
      "image/png": "[encoded data removed]",
      "text/plain": [
       "<Figure size 576x576 with 1 Axes>"
      ]
     },
     "metadata": {
      "needs_background": "light"
     },
     "output_type": "display_data"
    }
   ],
   "source": [
    "plt.figure(figsize = (8,8))\n",
    "sns.barplot(r2_scores, models)\n",
    "plt.title('Accuracy of ML Models')\n",
    "plt.ylabel('ML Model')\n",
    "plt.xlabel('Accuracy')\n",
    "plt.show()"
   ]
  },
  {
   "cell_type": "code",
   "execution_count": 40,
   "metadata": {},
   "outputs": [
    {
     "data": {
      "image/png": "[encoded data removed]",
      "text/plain": [
       "<Figure size 576x576 with 1 Axes>"
      ]
     },
     "metadata": {
      "needs_background": "light"
     },
     "output_type": "display_data"
    }
   ],
   "source": [
    "plt.figure(figsize = (8,8))\n",
    "sns.barplot(error, models)\n",
    "plt.title('Mean Squared Error of ML Models')\n",
    "plt.ylabel('ML Model')\n",
    "plt.xlabel('Error')\n",
    "plt.show()"
   ]
  },
  {
   "cell_type": "code",
   "execution_count": 27,
   "metadata": {},
   "outputs": [
    {
     "data": {
      "text/html": [
       "<div>\n",
       "<style scoped>\n",
       "    .dataframe tbody tr th:only-of-type {\n",
       "        vertical-align: middle;\n",
       "    }\n",
       "\n",
       "    .dataframe tbody tr th {\n",
       "        vertical-align: top;\n",
       "    }\n",
       "\n",
       "    .dataframe thead th {\n",
       "        text-align: right;\n",
       "    }\n",
       "</style>\n",
       "<table border=\"1\" class=\"dataframe\">\n",
       "  <thead>\n",
       "    <tr style=\"text-align: right;\">\n",
       "      <th></th>\n",
       "      <th>columns</th>\n",
       "      <th>rfr</th>\n",
       "      <th>gbr</th>\n",
       "      <th>rf_diff</th>\n",
       "      <th>gb_diff</th>\n",
       "      <th>rf_noisy</th>\n",
       "      <th>gb_noisy</th>\n",
       "    </tr>\n",
       "  </thead>\n",
       "  <tbody>\n",
       "    <tr>\n",
       "      <th>0</th>\n",
       "      <td>feature_c</td>\n",
       "      <td>0.000000</td>\n",
       "      <td>0.002554</td>\n",
       "      <td>0.000000</td>\n",
       "      <td>0.002507</td>\n",
       "      <td>0.000000</td>\n",
       "      <td>0.002340</td>\n",
       "    </tr>\n",
       "    <tr>\n",
       "      <th>1</th>\n",
       "      <td>feature_ct</td>\n",
       "      <td>0.627597</td>\n",
       "      <td>0.561182</td>\n",
       "      <td>0.627723</td>\n",
       "      <td>0.560287</td>\n",
       "      <td>0.630249</td>\n",
       "      <td>0.561214</td>\n",
       "    </tr>\n",
       "    <tr>\n",
       "      <th>2</th>\n",
       "      <td>feature_motorspeed</td>\n",
       "      <td>0.031509</td>\n",
       "      <td>0.024552</td>\n",
       "      <td>0.031495</td>\n",
       "      <td>0.019365</td>\n",
       "      <td>0.031115</td>\n",
       "      <td>0.019601</td>\n",
       "    </tr>\n",
       "    <tr>\n",
       "      <th>3</th>\n",
       "      <td>ambient_temp</td>\n",
       "      <td>0.072171</td>\n",
       "      <td>0.117893</td>\n",
       "      <td>0.072200</td>\n",
       "      <td>0.117927</td>\n",
       "      <td>0.072236</td>\n",
       "      <td>0.114748</td>\n",
       "    </tr>\n",
       "    <tr>\n",
       "      <th>4</th>\n",
       "      <td>car_speed</td>\n",
       "      <td>0.187062</td>\n",
       "      <td>0.177411</td>\n",
       "      <td>0.187231</td>\n",
       "      <td>0.181902</td>\n",
       "      <td>0.186691</td>\n",
       "      <td>0.185637</td>\n",
       "    </tr>\n",
       "    <tr>\n",
       "      <th>5</th>\n",
       "      <td>soc</td>\n",
       "      <td>0.081661</td>\n",
       "      <td>0.116408</td>\n",
       "      <td>0.081351</td>\n",
       "      <td>0.118011</td>\n",
       "      <td>0.079709</td>\n",
       "      <td>0.116460</td>\n",
       "    </tr>\n",
       "  </tbody>\n",
       "</table>\n",
       "</div>"
      ],
      "text/plain": [
       "              columns       rfr       gbr   rf_diff   gb_diff  rf_noisy  \\\n",
       "0           feature_c  0.000000  0.002554  0.000000  0.002507  0.000000   \n",
       "1          feature_ct  0.627597  0.561182  0.627723  0.560287  0.630249   \n",
       "2  feature_motorspeed  0.031509  0.024552  0.031495  0.019365  0.031115   \n",
       "3        ambient_temp  0.072171  0.117893  0.072200  0.117927  0.072236   \n",
       "4           car_speed  0.187062  0.177411  0.187231  0.181902  0.186691   \n",
       "5                 soc  0.081661  0.116408  0.081351  0.118011  0.079709   \n",
       "\n",
       "   gb_noisy  \n",
       "0  0.002340  \n",
       "1  0.561214  \n",
       "2  0.019601  \n",
       "3  0.114748  \n",
       "4  0.185637  \n",
       "5  0.116460  "
      ]
     },
     "execution_count": 27,
     "metadata": {},
     "output_type": "execute_result"
    }
   ],
   "source": [
    "col_names = list(X.columns)\n",
    "rfr_normal = rfr_model_load.feature_importances_\n",
    "gbr_normal = gbr_model_load.feature_importances_\n",
    "rfr_diff = rfr_diff_load.feature_importances_\n",
    "gbr_diff = gbr_diff_load.feature_importances_\n",
    "rfr_noisy = rfr_noisy_load.feature_importances_\n",
    "gbr_noisy = gbr_noisy_load.feature_importances_\n",
    "\n",
    "feature_importance_df = pd.DataFrame(zip(col_names, rfr_normal, gbr_normal, rfr_diff, gbr_diff, rfr_noisy, gbr_noisy),\n",
    "                                    columns = ['columns', 'rfr', 'gbr', 'rf_diff', 'gb_diff', 'rf_noisy', 'gb_noisy'])\n",
    "feature_importance_df"
   ]
  },
  {
   "cell_type": "code",
   "execution_count": 105,
   "metadata": {},
   "outputs": [
    {
     "name": "stderr",
     "output_type": "stream",
     "text": [
      "C:\\Users\\Yash\\Anaconda3\\lib\\site-packages\\ipykernel_launcher.py:4: FutureWarning: In a future version of pandas all arguments of DataFrame.drop except for the argument 'labels' will be keyword-only\n",
      "  after removing the cwd from sys.path.\n"
     ]
    }
   ],
   "source": [
    "data_new = pd.read_parquet('data/3.parquet')\n",
    "data1 = data_new[200000:220000]\n",
    "data1 = data1.reset_index()\n",
    "data1.drop(['index'],1,inplace=True)"
   ]
  },
  {
   "cell_type": "code",
   "execution_count": 106,
   "metadata": {},
   "outputs": [],
   "source": [
    "# plt.figure(figsize=(18,8))\n",
    "# # plt.plot(data1.feature_ct, color = 'blue')\n",
    "# # plt.plot(data1.car_speed, color = 'red')\n",
    "# # plt.plot(data1.target_temperature, color = 'green')\n",
    "# plt.plot(data1.soc, color = 'blue')\n",
    "# # plt.ylim(ymin=0)\n",
    "# plt.legend()\n",
    "# plt.show()"
   ]
  },
  {
   "cell_type": "code",
   "execution_count": 107,
   "metadata": {},
   "outputs": [
    {
     "data": {
      "image/png": "[encoded data removed]",
      "text/plain": [
       "<Figure size 1296x576 with 2 Axes>"
      ]
     },
     "metadata": {
      "needs_background": "light"
     },
     "output_type": "display_data"
    }
   ],
   "source": [
    "fig, ax1 = plt.subplots(figsize=(18,8))\n",
    "ax1.plot(data1['soc'], color = 'blue')\n",
    "ax1.tick_params(axis = 'y')\n",
    "ax2 = ax1.twinx()\n",
    "ax2.plot(data1['car_speed'], color = 'red')\n",
    "ax2.tick_params(axis = 'y')\n",
    "ax1.set_ylabel('State of Charge', size = 12)\n",
    "ax2.set_ylabel('Car speed in kmph', size = 12)\n",
    "ax1.set_xlabel('Time', size = 12)\n",
    "# plt.title('', size = 14)\n",
    "plt.legend(['Car Speed'], loc = 'upper right')\n",
    "ax1.legend(['State of Charge'], loc = 'upper left')\n",
    "plt.show()"
   ]
  },
  {
   "cell_type": "code",
   "execution_count": 108,
   "metadata": {},
   "outputs": [],
   "source": [
    "data_new.to_csv('data/user_data.csv',index = False)"
   ]
  },
  {
   "cell_type": "code",
   "execution_count": 121,
   "metadata": {},
   "outputs": [],
   "source": [
    "data1 = pd.read_parquet('data/1.parquet')\n",
    "data3 = pd.read_parquet('data/3.parquet')\n",
    "data5 = pd.read_parquet('data/5.parquet')\n",
    "data6 = pd.read_parquet('data/6.parquet')\n",
    "data7 = pd.read_parquet('data/7.parquet')"
   ]
  },
  {
   "cell_type": "code",
   "execution_count": 125,
   "metadata": {},
   "outputs": [
    {
     "data": {
      "image/png": "[encoded data removed]",
      "text/plain": [
       "<Figure size 1152x576 with 1 Axes>"
      ]
     },
     "metadata": {
      "needs_background": "light"
     },
     "output_type": "display_data"
    }
   ],
   "source": [
    "plt.figure(figsize=(16,8))\n",
    "data1['target_temperature'].plot(kind = 'kde')\n",
    "data3['target_temperature'].plot(kind = 'kde')\n",
    "data5['target_temperature'].plot(kind = 'kde')\n",
    "data6['target_temperature'].plot(kind = 'kde')\n",
    "data7['target_temperature'].plot(kind = 'kde', color = 'k')\n",
    "plt.xlabel('Temperature')\n",
    "plt.title('Distribution of sensor temperatures from different cars')\n",
    "plt.legend(['car1','car2','car3','car4','car5'])\n",
    "plt.show()\n",
    "\n",
    "# hist_data = [data1['target_temperature'], data3['target_temperature'], data5['target_temperature']]\n",
    "# group_labels = ['Car 1', 'Car 2', 'Car 3']\n",
    "# colors = ['#333F44', '#37AA9C', '#94F3E4']\n",
    "\n",
    "# # Create distplot with curve_type set to 'normal'\n",
    "# fig = ff.create_distplot(hist_data, group_labels, show_hist=False, colors=colors)\n",
    "\n",
    "# # Add title\n",
    "# fig.update_layout(title_text='Curve and Rug Plot')\n",
    "# fig.show()"
   ]
  },
  {
   "cell_type": "code",
   "execution_count": 139,
   "metadata": {},
   "outputs": [
    {
     "data": {
      "text/html": [
       "<div>\n",
       "<style scoped>\n",
       "    .dataframe tbody tr th:only-of-type {\n",
       "        vertical-align: middle;\n",
       "    }\n",
       "\n",
       "    .dataframe tbody tr th {\n",
       "        vertical-align: top;\n",
       "    }\n",
       "\n",
       "    .dataframe thead th {\n",
       "        text-align: right;\n",
       "    }\n",
       "</style>\n",
       "<table border=\"1\" class=\"dataframe\">\n",
       "  <thead>\n",
       "    <tr style=\"text-align: right;\">\n",
       "      <th></th>\n",
       "      <th>feature_c</th>\n",
       "      <th>feature_ct</th>\n",
       "      <th>feature_motorspeed</th>\n",
       "      <th>ambient_temp</th>\n",
       "      <th>car_speed</th>\n",
       "      <th>soc</th>\n",
       "    </tr>\n",
       "  </thead>\n",
       "  <tbody>\n",
       "    <tr>\n",
       "      <th>0</th>\n",
       "      <td>10.0</td>\n",
       "      <td>1.0</td>\n",
       "      <td>3000.0</td>\n",
       "      <td>-4.0</td>\n",
       "      <td>100.9</td>\n",
       "      <td>39.8</td>\n",
       "    </tr>\n",
       "  </tbody>\n",
       "</table>\n",
       "</div>"
      ],
      "text/plain": [
       "   feature_c  feature_ct  feature_motorspeed  ambient_temp  car_speed   soc\n",
       "0       10.0         1.0              3000.0          -4.0      100.9  39.8"
      ]
     },
     "execution_count": 139,
     "metadata": {},
     "output_type": "execute_result"
    }
   ],
   "source": [
    "user_input = [[10.0, 1.0, 3000.00, -4.0, 100.90, 39.80]]\n",
    "user_input = pd.DataFrame(user_input, columns = ['feature_c', 'feature_ct', 'feature_motorspeed','ambient_temp','car_speed','soc'])\n",
    "user_input"
   ]
  },
  {
   "cell_type": "code",
   "execution_count": 140,
   "metadata": {},
   "outputs": [
    {
     "data": {
      "text/plain": [
       "(93.57642765298466, -28.74625462767236)"
      ]
     },
     "execution_count": 140,
     "metadata": {},
     "output_type": "execute_result"
    }
   ],
   "source": [
    "np.max(data.target_temperature), np.min(data.target_temperature)"
   ]
  },
  {
   "cell_type": "code",
   "execution_count": 147,
   "metadata": {},
   "outputs": [
    {
     "data": {
      "text/plain": [
       "array([48.05])"
      ]
     },
     "execution_count": 147,
     "metadata": {},
     "output_type": "execute_result"
    }
   ],
   "source": [
    "val_pred = gbr_noisy_load.predict(user_input)\n",
    "np.round(val_pred,2)"
   ]
  },
  {
   "cell_type": "code",
   "execution_count": 146,
   "metadata": {},
   "outputs": [
    {
     "data": {
      "text/plain": [
       "'0.22'"
      ]
     },
     "execution_count": 146,
     "metadata": {},
     "output_type": "execute_result"
    }
   ],
   "source": [
    "sklearn.__version__"
   ]
  },
  {
   "cell_type": "code",
   "execution_count": null,
   "metadata": {},
   "outputs": [],
   "source": []
  }
 ],
 "metadata": {
  "kernelspec": {
   "display_name": "Python 3",
   "language": "python",
   "name": "python3"
  },
  "language_info": {
   "codemirror_mode": {
    "name": "ipython",
    "version": 3
   },
   "file_extension": ".py",
   "mimetype": "text/x-python",
   "name": "python",
   "nbconvert_exporter": "python",
   "pygments_lexer": "ipython3",
   "version": "3.7.3"
  }
 },
 "nbformat": 4,
 "nbformat_minor": 2
}
